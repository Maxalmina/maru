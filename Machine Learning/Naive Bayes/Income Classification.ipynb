{
 "cells": [
  {
   "cell_type": "markdown",
   "metadata": {},
   "source": [
    "# ML: Naïve Bayes\n",
    "\n",
    "Diberikan sebuah Trainset berupa himpunan data berisi 160 objek data yang memiliki 7 atribut input (age, workclass, education, marital-status, occupation, relationship, hours-per-week) dan 1 output (label kelas income) yang memiliki 2 kelas/label (>50K, dan <=50K). Bangunlah sebuah sistem klasifikasi menggunakan metode Naïve Bayes untuk menentukan kelas/label data testing dalam Testset. Sistem membaca masukan file TrainsetTugas1ML.csv  dan TestsetTugas1ML.csv dan mengeluarkan output berupa file TebakanTugas1ML.csv berupa satu kolom berisi 40 baris yang menyatakan kelas/label baris yang bersesuaian pada file TestsetTugas1ML.csv."
   ]
  },
  {
   "cell_type": "markdown",
   "metadata": {},
   "source": [
    "## Data Preparation"
   ]
  },
  {
   "cell_type": "code",
   "execution_count": 1,
   "metadata": {
    "scrolled": true
   },
   "outputs": [],
   "source": [
    "from sklearn.model_selection import train_test_split\n",
    "import pandas as pd\n",
    "import seaborn as sns\n",
    "import matplotlib.pyplot as plt\n",
    "%matplotlib inline\n",
    "\n",
    "data_train = pd.read_csv('TrainsetTugas1ML.csv')\n",
    "data_train = data_train.drop(columns=['id'])\n",
    "data_test = pd.read_csv('TestsetTugas1ML.csv')\n",
    "data_test = data_test.drop(columns=['id'])"
   ]
  },
  {
   "cell_type": "markdown",
   "metadata": {},
   "source": [
    "### Data Train"
   ]
  },
  {
   "cell_type": "code",
   "execution_count": 2,
   "metadata": {
    "scrolled": true
   },
   "outputs": [
    {
     "data": {
      "text/html": [
       "<div>\n",
       "<style scoped>\n",
       "    .dataframe tbody tr th:only-of-type {\n",
       "        vertical-align: middle;\n",
       "    }\n",
       "\n",
       "    .dataframe tbody tr th {\n",
       "        vertical-align: top;\n",
       "    }\n",
       "\n",
       "    .dataframe thead th {\n",
       "        text-align: right;\n",
       "    }\n",
       "</style>\n",
       "<table border=\"1\" class=\"dataframe\">\n",
       "  <thead>\n",
       "    <tr style=\"text-align: right;\">\n",
       "      <th></th>\n",
       "      <th>age</th>\n",
       "      <th>workclass</th>\n",
       "      <th>education</th>\n",
       "      <th>marital-status</th>\n",
       "      <th>occupation</th>\n",
       "      <th>relationship</th>\n",
       "      <th>hours-per-week</th>\n",
       "      <th>income</th>\n",
       "    </tr>\n",
       "  </thead>\n",
       "  <tbody>\n",
       "    <tr>\n",
       "      <th>0</th>\n",
       "      <td>young</td>\n",
       "      <td>Private</td>\n",
       "      <td>Some-college</td>\n",
       "      <td>Married-civ-spouse</td>\n",
       "      <td>Prof-specialty</td>\n",
       "      <td>Husband</td>\n",
       "      <td>normal</td>\n",
       "      <td>&gt;50K</td>\n",
       "    </tr>\n",
       "    <tr>\n",
       "      <th>1</th>\n",
       "      <td>adult</td>\n",
       "      <td>Private</td>\n",
       "      <td>Bachelors</td>\n",
       "      <td>Never-married</td>\n",
       "      <td>Prof-specialty</td>\n",
       "      <td>Not-in-family</td>\n",
       "      <td>normal</td>\n",
       "      <td>&gt;50K</td>\n",
       "    </tr>\n",
       "    <tr>\n",
       "      <th>2</th>\n",
       "      <td>young</td>\n",
       "      <td>Private</td>\n",
       "      <td>Some-college</td>\n",
       "      <td>Married-civ-spouse</td>\n",
       "      <td>Prof-specialty</td>\n",
       "      <td>Husband</td>\n",
       "      <td>normal</td>\n",
       "      <td>&gt;50K</td>\n",
       "    </tr>\n",
       "    <tr>\n",
       "      <th>3</th>\n",
       "      <td>adult</td>\n",
       "      <td>Private</td>\n",
       "      <td>HS-grad</td>\n",
       "      <td>Married-civ-spouse</td>\n",
       "      <td>Craft-repair</td>\n",
       "      <td>Husband</td>\n",
       "      <td>normal</td>\n",
       "      <td>&lt;=50K</td>\n",
       "    </tr>\n",
       "    <tr>\n",
       "      <th>4</th>\n",
       "      <td>adult</td>\n",
       "      <td>Private</td>\n",
       "      <td>Bachelors</td>\n",
       "      <td>Divorced</td>\n",
       "      <td>Exec-managerial</td>\n",
       "      <td>Not-in-family</td>\n",
       "      <td>normal</td>\n",
       "      <td>&gt;50K</td>\n",
       "    </tr>\n",
       "  </tbody>\n",
       "</table>\n",
       "</div>"
      ],
      "text/plain": [
       "     age workclass     education      marital-status       occupation  \\\n",
       "0  young   Private  Some-college  Married-civ-spouse   Prof-specialty   \n",
       "1  adult   Private     Bachelors       Never-married   Prof-specialty   \n",
       "2  young   Private  Some-college  Married-civ-spouse   Prof-specialty   \n",
       "3  adult   Private       HS-grad  Married-civ-spouse     Craft-repair   \n",
       "4  adult   Private     Bachelors            Divorced  Exec-managerial   \n",
       "\n",
       "    relationship hours-per-week income  \n",
       "0        Husband         normal   >50K  \n",
       "1  Not-in-family         normal   >50K  \n",
       "2        Husband         normal   >50K  \n",
       "3        Husband         normal  <=50K  \n",
       "4  Not-in-family         normal   >50K  "
      ]
     },
     "execution_count": 2,
     "metadata": {},
     "output_type": "execute_result"
    }
   ],
   "source": [
    "data_train.head()"
   ]
  },
  {
   "cell_type": "markdown",
   "metadata": {},
   "source": [
    "### Data Test"
   ]
  },
  {
   "cell_type": "code",
   "execution_count": 3,
   "metadata": {},
   "outputs": [
    {
     "data": {
      "text/html": [
       "<div>\n",
       "<style scoped>\n",
       "    .dataframe tbody tr th:only-of-type {\n",
       "        vertical-align: middle;\n",
       "    }\n",
       "\n",
       "    .dataframe tbody tr th {\n",
       "        vertical-align: top;\n",
       "    }\n",
       "\n",
       "    .dataframe thead th {\n",
       "        text-align: right;\n",
       "    }\n",
       "</style>\n",
       "<table border=\"1\" class=\"dataframe\">\n",
       "  <thead>\n",
       "    <tr style=\"text-align: right;\">\n",
       "      <th></th>\n",
       "      <th>age</th>\n",
       "      <th>workclass</th>\n",
       "      <th>education</th>\n",
       "      <th>marital-status</th>\n",
       "      <th>occupation</th>\n",
       "      <th>relationship</th>\n",
       "      <th>hours-per-week</th>\n",
       "    </tr>\n",
       "  </thead>\n",
       "  <tbody>\n",
       "    <tr>\n",
       "      <th>0</th>\n",
       "      <td>young</td>\n",
       "      <td>Private</td>\n",
       "      <td>HS-grad</td>\n",
       "      <td>Never-married</td>\n",
       "      <td>Craft-repair</td>\n",
       "      <td>Not-in-family</td>\n",
       "      <td>normal</td>\n",
       "    </tr>\n",
       "    <tr>\n",
       "      <th>1</th>\n",
       "      <td>young</td>\n",
       "      <td>Private</td>\n",
       "      <td>Bachelors</td>\n",
       "      <td>Divorced</td>\n",
       "      <td>Exec-managerial</td>\n",
       "      <td>Not-in-family</td>\n",
       "      <td>normal</td>\n",
       "    </tr>\n",
       "    <tr>\n",
       "      <th>2</th>\n",
       "      <td>young</td>\n",
       "      <td>Private</td>\n",
       "      <td>Bachelors</td>\n",
       "      <td>Married-civ-spouse</td>\n",
       "      <td>Prof-specialty</td>\n",
       "      <td>Husband</td>\n",
       "      <td>normal</td>\n",
       "    </tr>\n",
       "    <tr>\n",
       "      <th>3</th>\n",
       "      <td>adult</td>\n",
       "      <td>Private</td>\n",
       "      <td>Some-college</td>\n",
       "      <td>Divorced</td>\n",
       "      <td>Prof-specialty</td>\n",
       "      <td>Not-in-family</td>\n",
       "      <td>normal</td>\n",
       "    </tr>\n",
       "    <tr>\n",
       "      <th>4</th>\n",
       "      <td>young</td>\n",
       "      <td>Private</td>\n",
       "      <td>HS-grad</td>\n",
       "      <td>Married-civ-spouse</td>\n",
       "      <td>Exec-managerial</td>\n",
       "      <td>Husband</td>\n",
       "      <td>many</td>\n",
       "    </tr>\n",
       "  </tbody>\n",
       "</table>\n",
       "</div>"
      ],
      "text/plain": [
       "     age workclass     education      marital-status       occupation  \\\n",
       "0  young   Private       HS-grad       Never-married     Craft-repair   \n",
       "1  young   Private     Bachelors            Divorced  Exec-managerial   \n",
       "2  young   Private     Bachelors  Married-civ-spouse   Prof-specialty   \n",
       "3  adult   Private  Some-college            Divorced   Prof-specialty   \n",
       "4  young   Private       HS-grad  Married-civ-spouse  Exec-managerial   \n",
       "\n",
       "    relationship hours-per-week  \n",
       "0  Not-in-family         normal  \n",
       "1  Not-in-family         normal  \n",
       "2        Husband         normal  \n",
       "3  Not-in-family         normal  \n",
       "4        Husband           many  "
      ]
     },
     "execution_count": 3,
     "metadata": {},
     "output_type": "execute_result"
    }
   ],
   "source": [
    "data_test.head()"
   ]
  },
  {
   "cell_type": "markdown",
   "metadata": {},
   "source": [
    "## Create the Model"
   ]
  },
  {
   "cell_type": "markdown",
   "metadata": {},
   "source": [
    "### Model Function"
   ]
  },
  {
   "cell_type": "code",
   "execution_count": 4,
   "metadata": {},
   "outputs": [],
   "source": [
    "def naive_model(data, target):\n",
    "    features = data.columns[data.columns != target]\n",
    "    classes = data[target].unique()\n",
    "\n",
    "    probabilities = {}\n",
    "    kelas_probs = {}\n",
    "\n",
    "    for output_kelas in classes:\n",
    "        data2 = data[data[target] == output_kelas][features]\n",
    "        attribute_probs = {}\n",
    "        occurrences = len(data2)\n",
    "        for kolom in data2.columns:\n",
    "            label_attr = {}\n",
    "            for value,count in data2[kolom].value_counts().iteritems():\n",
    "                prob = count/occurrences\n",
    "                label_attr[value] = prob\n",
    "            attribute_probs[kolom] = label_attr\n",
    "        probabilities[output_kelas] = attribute_probs\n",
    "        kelas_probs[output_kelas] = len(data2)/len(data)\n",
    "        \n",
    "    return kelas_probs, probabilities"
   ]
  },
  {
   "cell_type": "code",
   "execution_count": 5,
   "metadata": {
    "scrolled": false
   },
   "outputs": [
    {
     "data": {
      "text/plain": [
       "{'>50K': {'age': {'young': 0.55,\n",
       "   'adult': 0.44166666666666665,\n",
       "   'old': 0.008333333333333333},\n",
       "  'workclass': {'Private': 0.875,\n",
       "   'Local-gov': 0.06666666666666667,\n",
       "   'Self-emp-not-inc': 0.058333333333333334},\n",
       "  'education': {'Bachelors': 0.5416666666666666,\n",
       "   'HS-grad': 0.23333333333333334,\n",
       "   'Some-college': 0.225},\n",
       "  'marital-status': {'Married-civ-spouse': 0.9,\n",
       "   'Never-married': 0.058333333333333334,\n",
       "   'Divorced': 0.041666666666666664},\n",
       "  'occupation': {'Exec-managerial': 0.39166666666666666,\n",
       "   'Prof-specialty': 0.3416666666666667,\n",
       "   'Craft-repair': 0.26666666666666666},\n",
       "  'relationship': {'Husband': 0.8916666666666667,\n",
       "   'Not-in-family': 0.09166666666666666,\n",
       "   'Own-child': 0.016666666666666666},\n",
       "  'hours-per-week': {'normal': 0.9666666666666667,\n",
       "   'low': 0.025,\n",
       "   'many': 0.008333333333333333}},\n",
       " '<=50K': {'age': {'young': 0.5, 'adult': 0.475, 'old': 0.025},\n",
       "  'workclass': {'Private': 0.8, 'Self-emp-not-inc': 0.175, 'Local-gov': 0.025},\n",
       "  'education': {'HS-grad': 0.425, 'Some-college': 0.4, 'Bachelors': 0.175},\n",
       "  'marital-status': {'Married-civ-spouse': 0.475,\n",
       "   'Never-married': 0.35,\n",
       "   'Divorced': 0.175},\n",
       "  'occupation': {'Craft-repair': 0.525,\n",
       "   'Exec-managerial': 0.375,\n",
       "   'Prof-specialty': 0.1},\n",
       "  'relationship': {'Husband': 0.475,\n",
       "   'Not-in-family': 0.35,\n",
       "   'Own-child': 0.175},\n",
       "  'hours-per-week': {'normal': 0.825, 'low': 0.125, 'many': 0.05}}}"
      ]
     },
     "execution_count": 5,
     "metadata": {},
     "output_type": "execute_result"
    }
   ],
   "source": [
    "target = 'income'\n",
    "kelas_probs, probabilities = naive_model(data_train, target)\n",
    "probabilities"
   ]
  },
  {
   "cell_type": "markdown",
   "metadata": {},
   "source": [
    "## Feature Selection"
   ]
  },
  {
   "cell_type": "markdown",
   "metadata": {},
   "source": [
    "### Data Correlation"
   ]
  },
  {
   "cell_type": "code",
   "execution_count": 6,
   "metadata": {
    "scrolled": false
   },
   "outputs": [
    {
     "data": {
      "text/plain": [
       "<matplotlib.axes._subplots.AxesSubplot at 0x7f8023dfbcc0>"
      ]
     },
     "execution_count": 6,
     "metadata": {},
     "output_type": "execute_result"
    },
    {
     "data": {
      "image/png": "[encoded data removed]",
      "text/plain": [
       "<Figure size 720x576 with 2 Axes>"
      ]
     },
     "metadata": {
      "needs_background": "light"
     },
     "output_type": "display_data"
    }
   ],
   "source": [
    "plt.rcParams['figure.figsize'] = (10, 8)\n",
    "plt.rcParams['font.size'] = 14\n",
    "\n",
    "data2 = pd.get_dummies(data_train)\n",
    "sns.heatmap(data2.corr())"
   ]
  },
  {
   "cell_type": "markdown",
   "metadata": {},
   "source": [
    "### Update Data after Feature Selection"
   ]
  },
  {
   "cell_type": "code",
   "execution_count": 14,
   "metadata": {},
   "outputs": [
    {
     "data": {
      "text/html": [
       "<div>\n",
       "<style scoped>\n",
       "    .dataframe tbody tr th:only-of-type {\n",
       "        vertical-align: middle;\n",
       "    }\n",
       "\n",
       "    .dataframe tbody tr th {\n",
       "        vertical-align: top;\n",
       "    }\n",
       "\n",
       "    .dataframe thead th {\n",
       "        text-align: right;\n",
       "    }\n",
       "</style>\n",
       "<table border=\"1\" class=\"dataframe\">\n",
       "  <thead>\n",
       "    <tr style=\"text-align: right;\">\n",
       "      <th></th>\n",
       "      <th>age</th>\n",
       "      <th>workclass</th>\n",
       "      <th>education</th>\n",
       "      <th>marital-status</th>\n",
       "      <th>occupation</th>\n",
       "      <th>hours-per-week</th>\n",
       "      <th>income</th>\n",
       "    </tr>\n",
       "  </thead>\n",
       "  <tbody>\n",
       "    <tr>\n",
       "      <th>0</th>\n",
       "      <td>young</td>\n",
       "      <td>Private</td>\n",
       "      <td>Some-college</td>\n",
       "      <td>Married-civ-spouse</td>\n",
       "      <td>Prof-specialty</td>\n",
       "      <td>normal</td>\n",
       "      <td>&gt;50K</td>\n",
       "    </tr>\n",
       "    <tr>\n",
       "      <th>1</th>\n",
       "      <td>adult</td>\n",
       "      <td>Private</td>\n",
       "      <td>Bachelors</td>\n",
       "      <td>Never-married</td>\n",
       "      <td>Prof-specialty</td>\n",
       "      <td>normal</td>\n",
       "      <td>&gt;50K</td>\n",
       "    </tr>\n",
       "    <tr>\n",
       "      <th>2</th>\n",
       "      <td>young</td>\n",
       "      <td>Private</td>\n",
       "      <td>Some-college</td>\n",
       "      <td>Married-civ-spouse</td>\n",
       "      <td>Prof-specialty</td>\n",
       "      <td>normal</td>\n",
       "      <td>&gt;50K</td>\n",
       "    </tr>\n",
       "    <tr>\n",
       "      <th>3</th>\n",
       "      <td>adult</td>\n",
       "      <td>Private</td>\n",
       "      <td>HS-grad</td>\n",
       "      <td>Married-civ-spouse</td>\n",
       "      <td>Craft-repair</td>\n",
       "      <td>normal</td>\n",
       "      <td>&lt;=50K</td>\n",
       "    </tr>\n",
       "    <tr>\n",
       "      <th>4</th>\n",
       "      <td>adult</td>\n",
       "      <td>Private</td>\n",
       "      <td>Bachelors</td>\n",
       "      <td>Divorced</td>\n",
       "      <td>Exec-managerial</td>\n",
       "      <td>normal</td>\n",
       "      <td>&gt;50K</td>\n",
       "    </tr>\n",
       "  </tbody>\n",
       "</table>\n",
       "</div>"
      ],
      "text/plain": [
       "     age workclass     education      marital-status       occupation  \\\n",
       "0  young   Private  Some-college  Married-civ-spouse   Prof-specialty   \n",
       "1  adult   Private     Bachelors       Never-married   Prof-specialty   \n",
       "2  young   Private  Some-college  Married-civ-spouse   Prof-specialty   \n",
       "3  adult   Private       HS-grad  Married-civ-spouse     Craft-repair   \n",
       "4  adult   Private     Bachelors            Divorced  Exec-managerial   \n",
       "\n",
       "  hours-per-week income  \n",
       "0         normal   >50K  \n",
       "1         normal   >50K  \n",
       "2         normal   >50K  \n",
       "3         normal  <=50K  \n",
       "4         normal   >50K  "
      ]
     },
     "execution_count": 14,
     "metadata": {},
     "output_type": "execute_result"
    }
   ],
   "source": [
    "data_train2 = data_train.drop(columns=['relationship'])\n",
    "data_test2 = data_test.drop(columns=['relationship'])\n",
    "data_train2.head()"
   ]
  },
  {
   "cell_type": "code",
   "execution_count": 9,
   "metadata": {
    "scrolled": false
   },
   "outputs": [
    {
     "data": {
      "text/plain": [
       "{'>50K': {'age': {'young': 0.55,\n",
       "   'adult': 0.44166666666666665,\n",
       "   'old': 0.008333333333333333},\n",
       "  'workclass': {'Private': 0.875,\n",
       "   'Local-gov': 0.06666666666666667,\n",
       "   'Self-emp-not-inc': 0.058333333333333334},\n",
       "  'education': {'Bachelors': 0.5416666666666666,\n",
       "   'HS-grad': 0.23333333333333334,\n",
       "   'Some-college': 0.225},\n",
       "  'marital-status': {'Married-civ-spouse': 0.9,\n",
       "   'Never-married': 0.058333333333333334,\n",
       "   'Divorced': 0.041666666666666664},\n",
       "  'occupation': {'Exec-managerial': 0.39166666666666666,\n",
       "   'Prof-specialty': 0.3416666666666667,\n",
       "   'Craft-repair': 0.26666666666666666},\n",
       "  'hours-per-week': {'normal': 0.9666666666666667,\n",
       "   'low': 0.025,\n",
       "   'many': 0.008333333333333333}},\n",
       " '<=50K': {'age': {'young': 0.5, 'adult': 0.475, 'old': 0.025},\n",
       "  'workclass': {'Private': 0.8, 'Self-emp-not-inc': 0.175, 'Local-gov': 0.025},\n",
       "  'education': {'HS-grad': 0.425, 'Some-college': 0.4, 'Bachelors': 0.175},\n",
       "  'marital-status': {'Married-civ-spouse': 0.475,\n",
       "   'Never-married': 0.35,\n",
       "   'Divorced': 0.175},\n",
       "  'occupation': {'Craft-repair': 0.525,\n",
       "   'Exec-managerial': 0.375,\n",
       "   'Prof-specialty': 0.1},\n",
       "  'hours-per-week': {'normal': 0.825, 'low': 0.125, 'many': 0.05}}}"
      ]
     },
     "execution_count": 9,
     "metadata": {},
     "output_type": "execute_result"
    }
   ],
   "source": [
    "kelas_probs2, probabilities2 = naive_model(data_train2, target)\n",
    "probabilities2"
   ]
  },
  {
   "cell_type": "markdown",
   "metadata": {},
   "source": [
    "## Naive Bayes Function"
   ]
  },
  {
   "cell_type": "code",
   "execution_count": 10,
   "metadata": {},
   "outputs": [],
   "source": [
    "def naive_bayes(data, probabilities, output_prob, target):\n",
    "    predicted = []\n",
    "    features = data.columns[data.columns != target]\n",
    "    output_labels = list(output_prob.keys())\n",
    "    for idx in data.index:\n",
    "        prod_0 = output_prob[output_labels[0]]\n",
    "        prod_1 = output_prob[output_labels[1]]\n",
    "        for feature in features:\n",
    "            prod_0 *= probabilities[output_labels[0]][feature][data[feature].loc[idx]]\n",
    "            prod_1 *= probabilities[output_labels[1]][feature][data[feature].loc[idx]]\n",
    "        \n",
    "        #Predict the class, >50K or <=50K\n",
    "        if prod_0 > prod_1:\n",
    "            predicted.append(output_labels[0])\n",
    "        else:\n",
    "            predicted.append(output_labels[1])\n",
    "    \n",
    "    return predicted"
   ]
  },
  {
   "cell_type": "markdown",
   "metadata": {},
   "source": [
    "## Accuracy"
   ]
  },
  {
   "cell_type": "code",
   "execution_count": 11,
   "metadata": {},
   "outputs": [
    {
     "name": "stdout",
     "output_type": "stream",
     "text": [
      "Akurasi: 83.125%\n"
     ]
    }
   ],
   "source": [
    "from sklearn.metrics import accuracy_score\n",
    "\n",
    "data_predict = naive_bayes(data_train, probabilities, kelas_probs, target)\n",
    "akurasi = accuracy_score(data_predict, data_train['income'])*100\n",
    "print('Akurasi: '+str(akurasi)+'%')"
   ]
  },
  {
   "cell_type": "markdown",
   "metadata": {},
   "source": [
    "### Accuracy with Feature Selection"
   ]
  },
  {
   "cell_type": "code",
   "execution_count": 12,
   "metadata": {},
   "outputs": [
    {
     "name": "stdout",
     "output_type": "stream",
     "text": [
      "Akurasi: 85.625%\n"
     ]
    }
   ],
   "source": [
    "data_predict2 = naive_bayes(data_train2, probabilities2, kelas_probs2, target)\n",
    "akurasi = accuracy_score(data_predict2, data_train2['income'])*100\n",
    "print('Akurasi: '+str(akurasi)+'%')"
   ]
  },
  {
   "cell_type": "markdown",
   "metadata": {},
   "source": [
    "## Data Test Prediction"
   ]
  },
  {
   "cell_type": "code",
   "execution_count": 13,
   "metadata": {},
   "outputs": [
    {
     "data": {
      "text/plain": [
       "['<=50K',\n",
       " '>50K',\n",
       " '>50K',\n",
       " '>50K',\n",
       " '<=50K',\n",
       " '>50K',\n",
       " '>50K',\n",
       " '<=50K',\n",
       " '>50K',\n",
       " '>50K',\n",
       " '>50K',\n",
       " '>50K',\n",
       " '<=50K',\n",
       " '>50K',\n",
       " '>50K',\n",
       " '>50K',\n",
       " '>50K',\n",
       " '>50K',\n",
       " '>50K',\n",
       " '>50K',\n",
       " '>50K',\n",
       " '>50K',\n",
       " '>50K',\n",
       " '>50K',\n",
       " '>50K',\n",
       " '>50K',\n",
       " '>50K',\n",
       " '>50K',\n",
       " '>50K',\n",
       " '<=50K',\n",
       " '<=50K',\n",
       " '<=50K',\n",
       " '<=50K',\n",
       " '>50K',\n",
       " '<=50K',\n",
       " '>50K',\n",
       " '<=50K',\n",
       " '>50K',\n",
       " '>50K',\n",
       " '>50K']"
      ]
     },
     "execution_count": 13,
     "metadata": {},
     "output_type": "execute_result"
    }
   ],
   "source": [
    "test_predict = naive_bayes(data_test2, probabilities2, kelas_probs2, target)\n",
    "test_predict"
   ]
  }
 ],
 "metadata": {
  "kernelspec": {
   "display_name": "Python 3",
   "language": "python",
   "name": "python3"
  },
  "language_info": {
   "codemirror_mode": {
    "name": "ipython",
    "version": 3
   },
   "file_extension": ".py",
   "mimetype": "text/x-python",
   "name": "python",
   "nbconvert_exporter": "python",
   "pygments_lexer": "ipython3",
   "version": "3.6.6"
  }
 },
 "nbformat": 4,
 "nbformat_minor": 2
}
