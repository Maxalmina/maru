{
 "cells": [
  {
   "cell_type": "markdown",
   "metadata": {},
   "source": [
    "# Task 1.1 Naïve Bayes\n",
    "## Machine Learning\n",
    "\n",
    "Diberikan sebuah Trainset berupa himpunan data berisi 160 objek data yang memiliki 7 atribut input (age, workclass, education, marital-status, occupation, relationship, hours-per-week) dan 1 output (label kelas income) yang memiliki 2 kelas/label (>50K, dan <=50K). Bangunlah sebuah sistem klasifikasi menggunakan metode Naïve Bayes untuk menentukan kelas/label data testing dalam Testset. Sistem membaca masukan file TrainsetTugas1ML.csv  dan TestsetTugas1ML.csv dan mengeluarkan output berupa file TebakanTugas1ML.csv berupa satu kolom berisi 40 baris yang menyatakan kelas/label baris yang bersesuaian pada file TestsetTugas1ML.csv."
   ]
  },
  {
   "cell_type": "markdown",
   "metadata": {},
   "source": [
    "### Data Preparation"
   ]
  },
  {
   "cell_type": "code",
   "execution_count": 1,
   "metadata": {
    "scrolled": true
   },
   "outputs": [],
   "source": [
    "from sklearn.model_selection import train_test_split\n",
    "import pandas as pd\n",
    "\n",
    "data = pd.read_csv('TrainsetTugas1ML.csv')\n",
    "data = data.drop(columns=['id'])\n",
    "\n",
    "data_train, data_validation = train_test_split(data, test_size = 0.3, random_state = 0)"
   ]
  },
  {
   "cell_type": "markdown",
   "metadata": {},
   "source": [
    "#### Data Train"
   ]
  },
  {
   "cell_type": "code",
   "execution_count": 2,
   "metadata": {
    "scrolled": true
   },
   "outputs": [
    {
     "data": {
      "text/html": [
       "<div>\n",
       "<style scoped>\n",
       "    .dataframe tbody tr th:only-of-type {\n",
       "        vertical-align: middle;\n",
       "    }\n",
       "\n",
       "    .dataframe tbody tr th {\n",
       "        vertical-align: top;\n",
       "    }\n",
       "\n",
       "    .dataframe thead th {\n",
       "        text-align: right;\n",
       "    }\n",
       "</style>\n",
       "<table border=\"1\" class=\"dataframe\">\n",
       "  <thead>\n",
       "    <tr style=\"text-align: right;\">\n",
       "      <th></th>\n",
       "      <th>age</th>\n",
       "      <th>workclass</th>\n",
       "      <th>education</th>\n",
       "      <th>marital-status</th>\n",
       "      <th>occupation</th>\n",
       "      <th>relationship</th>\n",
       "      <th>hours-per-week</th>\n",
       "      <th>income</th>\n",
       "    </tr>\n",
       "  </thead>\n",
       "  <tbody>\n",
       "    <tr>\n",
       "      <th>118</th>\n",
       "      <td>young</td>\n",
       "      <td>Private</td>\n",
       "      <td>Bachelors</td>\n",
       "      <td>Married-civ-spouse</td>\n",
       "      <td>Exec-managerial</td>\n",
       "      <td>Husband</td>\n",
       "      <td>normal</td>\n",
       "      <td>&gt;50K</td>\n",
       "    </tr>\n",
       "    <tr>\n",
       "      <th>95</th>\n",
       "      <td>adult</td>\n",
       "      <td>Private</td>\n",
       "      <td>Some-college</td>\n",
       "      <td>Never-married</td>\n",
       "      <td>Exec-managerial</td>\n",
       "      <td>Not-in-family</td>\n",
       "      <td>normal</td>\n",
       "      <td>&lt;=50K</td>\n",
       "    </tr>\n",
       "    <tr>\n",
       "      <th>55</th>\n",
       "      <td>young</td>\n",
       "      <td>Private</td>\n",
       "      <td>Bachelors</td>\n",
       "      <td>Married-civ-spouse</td>\n",
       "      <td>Prof-specialty</td>\n",
       "      <td>Husband</td>\n",
       "      <td>normal</td>\n",
       "      <td>&gt;50K</td>\n",
       "    </tr>\n",
       "    <tr>\n",
       "      <th>109</th>\n",
       "      <td>young</td>\n",
       "      <td>Private</td>\n",
       "      <td>Bachelors</td>\n",
       "      <td>Never-married</td>\n",
       "      <td>Prof-specialty</td>\n",
       "      <td>Own-child</td>\n",
       "      <td>normal</td>\n",
       "      <td>&gt;50K</td>\n",
       "    </tr>\n",
       "    <tr>\n",
       "      <th>18</th>\n",
       "      <td>adult</td>\n",
       "      <td>Private</td>\n",
       "      <td>Some-college</td>\n",
       "      <td>Married-civ-spouse</td>\n",
       "      <td>Prof-specialty</td>\n",
       "      <td>Husband</td>\n",
       "      <td>normal</td>\n",
       "      <td>&gt;50K</td>\n",
       "    </tr>\n",
       "  </tbody>\n",
       "</table>\n",
       "</div>"
      ],
      "text/plain": [
       "       age workclass     education      marital-status       occupation  \\\n",
       "118  young   Private     Bachelors  Married-civ-spouse  Exec-managerial   \n",
       "95   adult   Private  Some-college       Never-married  Exec-managerial   \n",
       "55   young   Private     Bachelors  Married-civ-spouse   Prof-specialty   \n",
       "109  young   Private     Bachelors       Never-married   Prof-specialty   \n",
       "18   adult   Private  Some-college  Married-civ-spouse   Prof-specialty   \n",
       "\n",
       "      relationship hours-per-week income  \n",
       "118        Husband         normal   >50K  \n",
       "95   Not-in-family         normal  <=50K  \n",
       "55         Husband         normal   >50K  \n",
       "109      Own-child         normal   >50K  \n",
       "18         Husband         normal   >50K  "
      ]
     },
     "execution_count": 2,
     "metadata": {},
     "output_type": "execute_result"
    }
   ],
   "source": [
    "data_train.head()"
   ]
  },
  {
   "cell_type": "markdown",
   "metadata": {},
   "source": [
    "#### Data Validation"
   ]
  },
  {
   "cell_type": "code",
   "execution_count": 3,
   "metadata": {},
   "outputs": [
    {
     "data": {
      "text/html": [
       "<div>\n",
       "<style scoped>\n",
       "    .dataframe tbody tr th:only-of-type {\n",
       "        vertical-align: middle;\n",
       "    }\n",
       "\n",
       "    .dataframe tbody tr th {\n",
       "        vertical-align: top;\n",
       "    }\n",
       "\n",
       "    .dataframe thead th {\n",
       "        text-align: right;\n",
       "    }\n",
       "</style>\n",
       "<table border=\"1\" class=\"dataframe\">\n",
       "  <thead>\n",
       "    <tr style=\"text-align: right;\">\n",
       "      <th></th>\n",
       "      <th>age</th>\n",
       "      <th>workclass</th>\n",
       "      <th>education</th>\n",
       "      <th>marital-status</th>\n",
       "      <th>occupation</th>\n",
       "      <th>relationship</th>\n",
       "      <th>hours-per-week</th>\n",
       "      <th>income</th>\n",
       "    </tr>\n",
       "  </thead>\n",
       "  <tbody>\n",
       "    <tr>\n",
       "      <th>110</th>\n",
       "      <td>adult</td>\n",
       "      <td>Local-gov</td>\n",
       "      <td>Some-college</td>\n",
       "      <td>Married-civ-spouse</td>\n",
       "      <td>Prof-specialty</td>\n",
       "      <td>Husband</td>\n",
       "      <td>normal</td>\n",
       "      <td>&gt;50K</td>\n",
       "    </tr>\n",
       "    <tr>\n",
       "      <th>112</th>\n",
       "      <td>adult</td>\n",
       "      <td>Private</td>\n",
       "      <td>Bachelors</td>\n",
       "      <td>Married-civ-spouse</td>\n",
       "      <td>Prof-specialty</td>\n",
       "      <td>Husband</td>\n",
       "      <td>normal</td>\n",
       "      <td>&gt;50K</td>\n",
       "    </tr>\n",
       "    <tr>\n",
       "      <th>143</th>\n",
       "      <td>young</td>\n",
       "      <td>Private</td>\n",
       "      <td>Bachelors</td>\n",
       "      <td>Married-civ-spouse</td>\n",
       "      <td>Exec-managerial</td>\n",
       "      <td>Husband</td>\n",
       "      <td>normal</td>\n",
       "      <td>&gt;50K</td>\n",
       "    </tr>\n",
       "    <tr>\n",
       "      <th>7</th>\n",
       "      <td>adult</td>\n",
       "      <td>Private</td>\n",
       "      <td>Bachelors</td>\n",
       "      <td>Married-civ-spouse</td>\n",
       "      <td>Prof-specialty</td>\n",
       "      <td>Husband</td>\n",
       "      <td>normal</td>\n",
       "      <td>&gt;50K</td>\n",
       "    </tr>\n",
       "    <tr>\n",
       "      <th>44</th>\n",
       "      <td>young</td>\n",
       "      <td>Private</td>\n",
       "      <td>HS-grad</td>\n",
       "      <td>Never-married</td>\n",
       "      <td>Craft-repair</td>\n",
       "      <td>Own-child</td>\n",
       "      <td>low</td>\n",
       "      <td>&lt;=50K</td>\n",
       "    </tr>\n",
       "  </tbody>\n",
       "</table>\n",
       "</div>"
      ],
      "text/plain": [
       "       age  workclass     education      marital-status       occupation  \\\n",
       "110  adult  Local-gov  Some-college  Married-civ-spouse   Prof-specialty   \n",
       "112  adult    Private     Bachelors  Married-civ-spouse   Prof-specialty   \n",
       "143  young    Private     Bachelors  Married-civ-spouse  Exec-managerial   \n",
       "7    adult    Private     Bachelors  Married-civ-spouse   Prof-specialty   \n",
       "44   young    Private       HS-grad       Never-married     Craft-repair   \n",
       "\n",
       "    relationship hours-per-week income  \n",
       "110      Husband         normal   >50K  \n",
       "112      Husband         normal   >50K  \n",
       "143      Husband         normal   >50K  \n",
       "7        Husband         normal   >50K  \n",
       "44     Own-child            low  <=50K  "
      ]
     },
     "execution_count": 3,
     "metadata": {},
     "output_type": "execute_result"
    }
   ],
   "source": [
    "data_validation.head()"
   ]
  },
  {
   "cell_type": "markdown",
   "metadata": {},
   "source": [
    "### Create the Model"
   ]
  },
  {
   "cell_type": "code",
   "execution_count": 4,
   "metadata": {},
   "outputs": [],
   "source": [
    "target = 'income'\n",
    "features = data.columns[data.columns != target]\n",
    "classes = data[target].unique()"
   ]
  },
  {
   "cell_type": "code",
   "execution_count": 5,
   "metadata": {},
   "outputs": [],
   "source": [
    "probabilities = {}\n",
    "kelas_probs = {}\n",
    "\n",
    "for output_kelas in classes:\n",
    "    data2 = data[data[target] == output_kelas][features]\n",
    "    attribute_probs = {}\n",
    "    occurrences = len(data2)\n",
    "    for kolom in data2.columns:\n",
    "        label_attr = {}\n",
    "        for value,count in data2[kolom].value_counts().iteritems():\n",
    "            prob = count/occurrences\n",
    "            label_attr[value] = prob\n",
    "        attribute_probs[kolom] = label_attr\n",
    "    probabilities[output_kelas] = attribute_probs\n",
    "    kelas_probs[output_kelas] = len(data2)/len(data)"
   ]
  },
  {
   "cell_type": "code",
   "execution_count": 6,
   "metadata": {},
   "outputs": [
    {
     "data": {
      "text/plain": [
       "{'>50K': 0.75, '<=50K': 0.25}"
      ]
     },
     "execution_count": 6,
     "metadata": {},
     "output_type": "execute_result"
    }
   ],
   "source": [
    "kelas_probs"
   ]
  },
  {
   "cell_type": "code",
   "execution_count": 7,
   "metadata": {},
   "outputs": [
    {
     "data": {
      "text/plain": [
       "{'>50K': {'age': {'young': 0.55,\n",
       "   'adult': 0.44166666666666665,\n",
       "   'old': 0.008333333333333333},\n",
       "  'workclass': {'Private': 0.875,\n",
       "   'Local-gov': 0.06666666666666667,\n",
       "   'Self-emp-not-inc': 0.058333333333333334},\n",
       "  'education': {'Bachelors': 0.5416666666666666,\n",
       "   'HS-grad': 0.23333333333333334,\n",
       "   'Some-college': 0.225},\n",
       "  'marital-status': {'Married-civ-spouse': 0.9,\n",
       "   'Never-married': 0.058333333333333334,\n",
       "   'Divorced': 0.041666666666666664},\n",
       "  'occupation': {'Exec-managerial': 0.39166666666666666,\n",
       "   'Prof-specialty': 0.3416666666666667,\n",
       "   'Craft-repair': 0.26666666666666666},\n",
       "  'relationship': {'Husband': 0.8916666666666667,\n",
       "   'Not-in-family': 0.09166666666666666,\n",
       "   'Own-child': 0.016666666666666666},\n",
       "  'hours-per-week': {'normal': 0.9666666666666667,\n",
       "   'low': 0.025,\n",
       "   'many': 0.008333333333333333}},\n",
       " '<=50K': {'age': {'young': 0.5, 'adult': 0.475, 'old': 0.025},\n",
       "  'workclass': {'Private': 0.8, 'Self-emp-not-inc': 0.175, 'Local-gov': 0.025},\n",
       "  'education': {'HS-grad': 0.425, 'Some-college': 0.4, 'Bachelors': 0.175},\n",
       "  'marital-status': {'Married-civ-spouse': 0.475,\n",
       "   'Never-married': 0.35,\n",
       "   'Divorced': 0.175},\n",
       "  'occupation': {'Craft-repair': 0.525,\n",
       "   'Exec-managerial': 0.375,\n",
       "   'Prof-specialty': 0.1},\n",
       "  'relationship': {'Husband': 0.475,\n",
       "   'Not-in-family': 0.35,\n",
       "   'Own-child': 0.175},\n",
       "  'hours-per-week': {'normal': 0.825, 'low': 0.125, 'many': 0.05}}}"
      ]
     },
     "execution_count": 7,
     "metadata": {},
     "output_type": "execute_result"
    }
   ],
   "source": [
    "probabilities"
   ]
  },
  {
   "cell_type": "markdown",
   "metadata": {},
   "source": [
    "#### Naive Bayes Function"
   ]
  },
  {
   "cell_type": "code",
   "execution_count": 8,
   "metadata": {},
   "outputs": [],
   "source": [
    "def naive_bayes(data, probabilities, output_prob):\n",
    "    predicted = []\n",
    "    output_labels = list(output_prob.keys())\n",
    "    for idx in data.index:\n",
    "        prod_0 = output_prob[output_labels[0]]\n",
    "        prod_1 = output_prob[output_labels[1]]\n",
    "        for feature in features:\n",
    "            prod_0 *= probabilities[output_labels[0]][feature][data[feature].loc[idx]]\n",
    "            prod_1 *= probabilities[output_labels[1]][feature][data[feature].loc[idx]]\n",
    "        \n",
    "        #Predict the class, >50K or <=50K\n",
    "        if prod_0 > prod_1:\n",
    "            predicted.append(output_labels[0])\n",
    "        else:\n",
    "            predicted.append(output_labels[1])\n",
    "    \n",
    "    return predicted"
   ]
  },
  {
   "cell_type": "markdown",
   "metadata": {},
   "source": [
    "### Accuracy"
   ]
  },
  {
   "cell_type": "code",
   "execution_count": 9,
   "metadata": {},
   "outputs": [
    {
     "name": "stdout",
     "output_type": "stream",
     "text": [
      "Akurasi terhadap data validasi: 85.41666666666666%\n"
     ]
    }
   ],
   "source": [
    "from sklearn.metrics import accuracy_score\n",
    "\n",
    "valid_predict = naive_bayes(data_validation, probabilities, kelas_probs)\n",
    "akurasi = accuracy_score(valid_predict, data_validation['income'])*100\n",
    "print(\"Akurasi terhadap data validasi: {}%\".format(akurasi))"
   ]
  },
  {
   "cell_type": "code",
   "execution_count": 10,
   "metadata": {},
   "outputs": [
    {
     "name": "stdout",
     "output_type": "stream",
     "text": [
      "Akurasi terhadap data train: 83.125%\n"
     ]
    }
   ],
   "source": [
    "data_predict = naive_bayes(data, probabilities, kelas_probs)\n",
    "akurasi = accuracy_score(data_predict, data['income'])*100\n",
    "print(\"Akurasi terhadap data train: {}%\".format(akurasi))"
   ]
  },
  {
   "cell_type": "markdown",
   "metadata": {},
   "source": [
    "### Classification of Data Test Prediction"
   ]
  },
  {
   "cell_type": "markdown",
   "metadata": {},
   "source": [
    "#### Data Test"
   ]
  },
  {
   "cell_type": "code",
   "execution_count": 11,
   "metadata": {},
   "outputs": [
    {
     "data": {
      "text/html": [
       "<div>\n",
       "<style scoped>\n",
       "    .dataframe tbody tr th:only-of-type {\n",
       "        vertical-align: middle;\n",
       "    }\n",
       "\n",
       "    .dataframe tbody tr th {\n",
       "        vertical-align: top;\n",
       "    }\n",
       "\n",
       "    .dataframe thead th {\n",
       "        text-align: right;\n",
       "    }\n",
       "</style>\n",
       "<table border=\"1\" class=\"dataframe\">\n",
       "  <thead>\n",
       "    <tr style=\"text-align: right;\">\n",
       "      <th></th>\n",
       "      <th>age</th>\n",
       "      <th>workclass</th>\n",
       "      <th>education</th>\n",
       "      <th>marital-status</th>\n",
       "      <th>occupation</th>\n",
       "      <th>relationship</th>\n",
       "      <th>hours-per-week</th>\n",
       "    </tr>\n",
       "  </thead>\n",
       "  <tbody>\n",
       "    <tr>\n",
       "      <th>0</th>\n",
       "      <td>young</td>\n",
       "      <td>Private</td>\n",
       "      <td>HS-grad</td>\n",
       "      <td>Never-married</td>\n",
       "      <td>Craft-repair</td>\n",
       "      <td>Not-in-family</td>\n",
       "      <td>normal</td>\n",
       "    </tr>\n",
       "    <tr>\n",
       "      <th>1</th>\n",
       "      <td>young</td>\n",
       "      <td>Private</td>\n",
       "      <td>Bachelors</td>\n",
       "      <td>Divorced</td>\n",
       "      <td>Exec-managerial</td>\n",
       "      <td>Not-in-family</td>\n",
       "      <td>normal</td>\n",
       "    </tr>\n",
       "    <tr>\n",
       "      <th>2</th>\n",
       "      <td>young</td>\n",
       "      <td>Private</td>\n",
       "      <td>Bachelors</td>\n",
       "      <td>Married-civ-spouse</td>\n",
       "      <td>Prof-specialty</td>\n",
       "      <td>Husband</td>\n",
       "      <td>normal</td>\n",
       "    </tr>\n",
       "    <tr>\n",
       "      <th>3</th>\n",
       "      <td>adult</td>\n",
       "      <td>Private</td>\n",
       "      <td>Some-college</td>\n",
       "      <td>Divorced</td>\n",
       "      <td>Prof-specialty</td>\n",
       "      <td>Not-in-family</td>\n",
       "      <td>normal</td>\n",
       "    </tr>\n",
       "    <tr>\n",
       "      <th>4</th>\n",
       "      <td>young</td>\n",
       "      <td>Private</td>\n",
       "      <td>HS-grad</td>\n",
       "      <td>Married-civ-spouse</td>\n",
       "      <td>Exec-managerial</td>\n",
       "      <td>Husband</td>\n",
       "      <td>many</td>\n",
       "    </tr>\n",
       "  </tbody>\n",
       "</table>\n",
       "</div>"
      ],
      "text/plain": [
       "     age workclass     education      marital-status       occupation  \\\n",
       "0  young   Private       HS-grad       Never-married     Craft-repair   \n",
       "1  young   Private     Bachelors            Divorced  Exec-managerial   \n",
       "2  young   Private     Bachelors  Married-civ-spouse   Prof-specialty   \n",
       "3  adult   Private  Some-college            Divorced   Prof-specialty   \n",
       "4  young   Private       HS-grad  Married-civ-spouse  Exec-managerial   \n",
       "\n",
       "    relationship hours-per-week  \n",
       "0  Not-in-family         normal  \n",
       "1  Not-in-family         normal  \n",
       "2        Husband         normal  \n",
       "3  Not-in-family         normal  \n",
       "4        Husband           many  "
      ]
     },
     "execution_count": 11,
     "metadata": {},
     "output_type": "execute_result"
    }
   ],
   "source": [
    "data_test = pd.read_csv('TestsetTugas1ML.csv')\n",
    "data_test = data_test.drop(columns=['id'])\n",
    "data_test.head()"
   ]
  },
  {
   "cell_type": "markdown",
   "metadata": {},
   "source": [
    "#### Prediction"
   ]
  },
  {
   "cell_type": "code",
   "execution_count": 12,
   "metadata": {},
   "outputs": [
    {
     "data": {
      "text/plain": [
       "['<=50K',\n",
       " '<=50K',\n",
       " '>50K',\n",
       " '<=50K',\n",
       " '>50K',\n",
       " '>50K',\n",
       " '<=50K',\n",
       " '<=50K',\n",
       " '>50K',\n",
       " '>50K',\n",
       " '>50K',\n",
       " '>50K',\n",
       " '<=50K',\n",
       " '>50K',\n",
       " '>50K',\n",
       " '>50K',\n",
       " '<=50K',\n",
       " '>50K',\n",
       " '<=50K',\n",
       " '>50K',\n",
       " '>50K',\n",
       " '>50K',\n",
       " '>50K',\n",
       " '>50K',\n",
       " '>50K',\n",
       " '>50K',\n",
       " '>50K',\n",
       " '>50K',\n",
       " '>50K',\n",
       " '<=50K',\n",
       " '<=50K',\n",
       " '<=50K',\n",
       " '>50K',\n",
       " '>50K',\n",
       " '<=50K',\n",
       " '>50K',\n",
       " '<=50K',\n",
       " '>50K',\n",
       " '>50K',\n",
       " '>50K']"
      ]
     },
     "execution_count": 12,
     "metadata": {},
     "output_type": "execute_result"
    }
   ],
   "source": [
    "test_predict = naive_bayes(data_test, probabilities, kelas_probs)\n",
    "test_predict"
   ]
  }
 ],
 "metadata": {
  "kernelspec": {
   "display_name": "Python 3",
   "language": "python",
   "name": "python3"
  },
  "language_info": {
   "codemirror_mode": {
    "name": "ipython",
    "version": 3
   },
   "file_extension": ".py",
   "mimetype": "text/x-python",
   "name": "python",
   "nbconvert_exporter": "python",
   "pygments_lexer": "ipython3",
   "version": "3.6.6"
  }
 },
 "nbformat": 4,
 "nbformat_minor": 2
}
