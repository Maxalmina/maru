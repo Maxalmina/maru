{
  "nbformat": 4,
  "nbformat_minor": 0,
  "metadata": {
    "colab": {
      "name": "MNIST-Kannada.ipynb",
      "provenance": [],
      "collapsed_sections": [],
      "toc_visible": true
    },
    "kernelspec": {
      "name": "python3",
      "display_name": "Python 3"
    },
    "accelerator": "GPU"
  },
  "cells": [
    {
      "cell_type": "markdown",
      "metadata": {
        "id": "FEDkzGjyfY7G",
        "colab_type": "text"
      },
      "source": [
        "# Kannada MNIST\n",
        "## MNIST like dataset for Kannada handwritten digits\n",
        "\n",
        "**Competition Description**\n",
        "\n",
        "The goal of this competition is to provide a simple extension to the classic [MNIST competition](https://www.kaggle.com/c/digit-recognizer/) we're all familiar with. Instead of using Arabic numerals, it uses a recently-released dataset of Kannada digits.\n",
        "\n",
        "Kannada is a language spoken predominantly by people of Karnataka in southwestern India. The language has roughly 45 million native speakers and is written using the Kannada script. [Wikipedia](https://en.wikipedia.org/wiki/Kannada)\n",
        "\n",
        "![kannada mnist](https://storage.googleapis.com/kaggle-media/competitions/Kannada-MNIST/kannada.png)\n",
        "\n",
        "This competition uses the same format as the MNIST competition in terms of how the data is structured, but it's different in that it is a synchronous re-run Kernels competition. You write your code in a Kaggle Notebook, and when you submit the results, your code is scored on both the public test set, as well as a private (unseen) test set.\n",
        "\n",
        "**Goal**\n",
        "\n",
        "The goal in this competition is to take an image of a handwritten single digit, and determine what that digit is.\n",
        "For every in the test set, we should predict the correct label.\n",
        "\n",
        "**Metric**\n",
        "\n",
        "This competition is evaluated on the categorization accuracy of your predictions (the percentage of images we get correct).\n",
        "\n"
      ]
    },
    {
      "cell_type": "markdown",
      "metadata": {
        "id": "jaN7UL3cpfQE",
        "colab_type": "text"
      },
      "source": [
        "## Install and Import All Neccessary Tools\n",
        "\n",
        "Since this is computer vision competition, we are trying to solve using CNN with Tensorflow."
      ]
    },
    {
      "cell_type": "code",
      "metadata": {
        "id": "PXijO8LAbeJv",
        "colab_type": "code",
        "colab": {}
      },
      "source": [
        "!pip install tensorflow-gpu==2.0.0"
      ],
      "execution_count": 0,
      "outputs": []
    },
    {
      "cell_type": "code",
      "metadata": {
        "id": "BLFn62AbbgQA",
        "colab_type": "code",
        "outputId": "e9ba4c43-922c-4710-f544-4f76381494cc",
        "colab": {
          "base_uri": "https://localhost:8080/",
          "height": 34
        }
      },
      "source": [
        "import tensorflow as tf\n",
        "tf.__version__"
      ],
      "execution_count": 2,
      "outputs": [
        {
          "output_type": "execute_result",
          "data": {
            "text/plain": [
              "'2.0.0'"
            ]
          },
          "metadata": {
            "tags": []
          },
          "execution_count": 2
        }
      ]
    },
    {
      "cell_type": "code",
      "metadata": {
        "id": "9p9QK8_Tbde-",
        "colab_type": "code",
        "colab": {}
      },
      "source": [
        "from tensorflow.keras.layers import Conv2D, Dense, MaxPooling2D, Flatten, GlobalAveragePooling2D\n",
        "from tensorflow.keras.utils import to_categorical, plot_model\n",
        "from tensorflow.keras.models import Sequential\n",
        "from tensorflow.keras import applications\n",
        "\n",
        "import numpy as np\n",
        "import pandas as pd\n",
        "import matplotlib.pyplot as plt\n",
        "%matplotlib inline\n",
        "\n",
        "np.set_printoptions(precision=7)"
      ],
      "execution_count": 0,
      "outputs": []
    },
    {
      "cell_type": "markdown",
      "metadata": {
        "id": "dJNJ7qKLiC2Q",
        "colab_type": "text"
      },
      "source": [
        "## Function to Evaluate Our Model"
      ]
    },
    {
      "cell_type": "code",
      "metadata": {
        "id": "aZ3QHSfHkm3y",
        "colab_type": "code",
        "colab": {}
      },
      "source": [
        "def plot_history(history):\n",
        "  plt.rcParams['figure.figsize'] = [12, 4]\n",
        "  plt.subplots_adjust(wspace=0.2)\n",
        "\n",
        "  plt.subplot(121)\n",
        "  # Plot training & validation accuracy values\n",
        "  plt.plot(history.history['accuracy'])\n",
        "  plt.plot(history.history['val_accuracy'])\n",
        "  plt.title('Model accuracy')\n",
        "  plt.ylabel('Accuracy')\n",
        "  plt.xlabel('Epoch')\n",
        "  plt.legend(['Train', 'Val'])\n",
        "\n",
        "  plt.subplot(122)\n",
        "  # Plot training & validation loss values\n",
        "  plt.plot(history.history['loss'])\n",
        "  plt.plot(history.history['val_loss'])\n",
        "  plt.title('Model loss')\n",
        "  plt.ylabel('Loss')\n",
        "  plt.xlabel('Epoch')\n",
        "  plt.legend(['Train', 'Val'])\n",
        "  plt.show()"
      ],
      "execution_count": 0,
      "outputs": []
    },
    {
      "cell_type": "markdown",
      "metadata": {
        "id": "HPnwoM8YfoTN",
        "colab_type": "text"
      },
      "source": [
        "## Load Dataset MNIST-Kannada\n",
        "\n",
        "Reshape all the data into (28,28)"
      ]
    },
    {
      "cell_type": "code",
      "metadata": {
        "id": "HOZRP0GNZJrz",
        "colab_type": "code",
        "outputId": "279b8ee8-724f-4c67-acfd-ccbca6f8cfaf",
        "colab": {
          "base_uri": "https://localhost:8080/",
          "height": 68
        }
      },
      "source": [
        "data_train = pd.read_csv(\"https://drive.google.com/uc?export=download&id=1UGvx4rcEyCoi-_roGlsjP_AH5UiXDgxL\")\n",
        "data_test = pd.read_csv(\"https://drive.google.com/uc?export=download&id=1sp27GOjM1JkCvJ1gAjPiMTip9o9ZdX47\")\n",
        "\n",
        "X_train = data_train[data_train.columns[1:]].values.reshape(data_train.shape[0], 28, 28, 1)\n",
        "y_train = data_train['label'].values\n",
        "X_test = data_test[data_test.columns[1:]].values.reshape(data_test.shape[0], 28, 28, 1)\n",
        "\n",
        "print('X_train.shape =',X_train.shape)\n",
        "print('y_train.shape =',y_train.shape)\n",
        "print('X_test.shape  =',X_test.shape)"
      ],
      "execution_count": 5,
      "outputs": [
        {
          "output_type": "stream",
          "text": [
            "X_train.shape = (60000, 28, 28, 1)\n",
            "y_train.shape = (60000,)\n",
            "X_test.shape  = (5000, 28, 28, 1)\n"
          ],
          "name": "stdout"
        }
      ]
    },
    {
      "cell_type": "markdown",
      "metadata": {
        "id": "Wsebbr1Xfg9q",
        "colab_type": "text"
      },
      "source": [
        "## Visualize MNIST-Kannada Data"
      ]
    },
    {
      "cell_type": "code",
      "metadata": {
        "id": "diFBY7Ggb8h6",
        "colab_type": "code",
        "outputId": "65e9a221-c832-40d8-afcf-86f1d140f278",
        "colab": {
          "base_uri": "https://localhost:8080/",
          "height": 252
        }
      },
      "source": [
        "fig, ax = plt.subplots(2,10,figsize=(15,4.5))\n",
        "fig.subplots_adjust(hspace=0.1, wspace=0.1)\n",
        "for j in range(0,2):\n",
        "    for i in range(0, 10):\n",
        "        ax[j,i].imshow(X_train[i+j*10].reshape(28,28), cmap='gray')\n",
        "        ax[j,i].set_title(y_train[i+j*10])\n",
        "        ax[j,i].axis('off')\n",
        "plt.show()"
      ],
      "execution_count": 6,
      "outputs": [
        {
          "output_type": "display_data",
          "data": {
            "image/png": "[encoded data removed]",
            "text/plain": [
              "<Figure size 1080x324 with 20 Axes>"
            ]
          },
          "metadata": {
            "tags": []
          }
        }
      ]
    },
    {
      "cell_type": "markdown",
      "metadata": {
        "id": "G0ZGD74LnoaQ",
        "colab_type": "text"
      },
      "source": [
        "## Split Data Train and Data Validation\n",
        "\n",
        "This partition aims to evaluate the model we made using data validation."
      ]
    },
    {
      "cell_type": "code",
      "metadata": {
        "id": "9oX5-q_CcMSu",
        "colab_type": "code",
        "outputId": "e64bb63a-940b-4f9d-f2ac-02ff4003d2db",
        "colab": {
          "base_uri": "https://localhost:8080/",
          "height": 85
        }
      },
      "source": [
        "data_val = pd.read_csv(\"https://drive.google.com/uc?export=download&id=1UGvx4rcEyCoi-_roGlsjP_AH5UiXDgxL\")\n",
        "X_val = data_val[data_val.columns[1:]].values.reshape(data_val.shape[0], 28, 28, 1)\n",
        "y_val = data_val['label'].values\n",
        "\n",
        "print('X_val.shape   =',X_val.shape)\n",
        "print('y_val.shape   =',y_val.shape)\n",
        "print('X_train.shape =',X_train.shape)\n",
        "print('y_train.shape =',y_train.shape)"
      ],
      "execution_count": 7,
      "outputs": [
        {
          "output_type": "stream",
          "text": [
            "X_val.shape   = (60000, 28, 28, 1)\n",
            "y_val.shape   = (60000,)\n",
            "X_train.shape = (60000, 28, 28, 1)\n",
            "y_train.shape = (60000,)\n"
          ],
          "name": "stdout"
        }
      ]
    },
    {
      "cell_type": "markdown",
      "metadata": {
        "id": "P3WK2JoxnwXY",
        "colab_type": "text"
      },
      "source": [
        "## One Hot Matrix"
      ]
    },
    {
      "cell_type": "code",
      "metadata": {
        "id": "1bozRhj8i-ko",
        "colab_type": "code",
        "outputId": "3452705d-6346-4977-895a-9b8f76b06f55",
        "colab": {
          "base_uri": "https://localhost:8080/",
          "height": 51
        }
      },
      "source": [
        "y_train_hot = to_categorical(y_train)\n",
        "y_val_hot = to_categorical(y_val)\n",
        "\n",
        "print('y_train_hot.shape =',y_train_hot.shape)\n",
        "print('y_val_hot.shape   =',y_val_hot.shape)"
      ],
      "execution_count": 8,
      "outputs": [
        {
          "output_type": "stream",
          "text": [
            "y_train_hot.shape = (60000, 10)\n",
            "y_val_hot.shape   = (60000, 10)\n"
          ],
          "name": "stdout"
        }
      ]
    },
    {
      "cell_type": "markdown",
      "metadata": {
        "id": "1I1F3ttMnKYq",
        "colab_type": "text"
      },
      "source": [
        "## Design Our CNN Architecture"
      ]
    },
    {
      "cell_type": "code",
      "metadata": {
        "id": "v5dIP-ZrjmOz",
        "colab_type": "code",
        "outputId": "f11c03f1-c81a-48d1-84c2-667b1e9fbb21",
        "colab": {
          "base_uri": "https://localhost:8080/",
          "height": 527
        }
      },
      "source": [
        "model = Sequential([\n",
        "          Conv2D(128, kernel_size=(5,5), strides=(1,1), input_shape=(28,28,1), activation='relu'),\n",
        "          Conv2D(128, kernel_size=(3,3), padding='same', activation='relu'),\n",
        "          MaxPooling2D(),\n",
        "          Conv2D(64, kernel_size=(5,5), padding='same', activation='relu'),\n",
        "          MaxPooling2D(),\n",
        "          Conv2D(64, kernel_size=(3,3), padding='same', activation='relu'),\n",
        "          GlobalAveragePooling2D(),\n",
        "          Dense(512, activation='relu'),\n",
        "          Dense(256, activation='relu'),\n",
        "          Dense(128, activation='relu'),\n",
        "          Dense(10, activation='softmax')\n",
        "], name='MyModel')\n",
        "model.summary()"
      ],
      "execution_count": 9,
      "outputs": [
        {
          "output_type": "stream",
          "text": [
            "Model: \"MyModel\"\n",
            "_________________________________________________________________\n",
            "Layer (type)                 Output Shape              Param #   \n",
            "=================================================================\n",
            "conv2d (Conv2D)              (None, 24, 24, 128)       3328      \n",
            "_________________________________________________________________\n",
            "conv2d_1 (Conv2D)            (None, 24, 24, 128)       147584    \n",
            "_________________________________________________________________\n",
            "max_pooling2d (MaxPooling2D) (None, 12, 12, 128)       0         \n",
            "_________________________________________________________________\n",
            "conv2d_2 (Conv2D)            (None, 12, 12, 64)        204864    \n",
            "_________________________________________________________________\n",
            "max_pooling2d_1 (MaxPooling2 (None, 6, 6, 64)          0         \n",
            "_________________________________________________________________\n",
            "conv2d_3 (Conv2D)            (None, 6, 6, 64)          36928     \n",
            "_________________________________________________________________\n",
            "global_average_pooling2d (Gl (None, 64)                0         \n",
            "_________________________________________________________________\n",
            "dense (Dense)                (None, 512)               33280     \n",
            "_________________________________________________________________\n",
            "dense_1 (Dense)              (None, 256)               131328    \n",
            "_________________________________________________________________\n",
            "dense_2 (Dense)              (None, 128)               32896     \n",
            "_________________________________________________________________\n",
            "dense_3 (Dense)              (None, 10)                1290      \n",
            "=================================================================\n",
            "Total params: 591,498\n",
            "Trainable params: 591,498\n",
            "Non-trainable params: 0\n",
            "_________________________________________________________________\n"
          ],
          "name": "stdout"
        }
      ]
    },
    {
      "cell_type": "markdown",
      "metadata": {
        "id": "FbCdPQIhrKae",
        "colab_type": "text"
      },
      "source": [
        "## Visualize Our CNN Architecture"
      ]
    },
    {
      "cell_type": "code",
      "metadata": {
        "id": "gVKBLdYwq6bn",
        "colab_type": "code",
        "outputId": "f4a083f4-e3e4-42e6-c017-a79e730ad2e5",
        "colab": {
          "base_uri": "https://localhost:8080/",
          "height": 1000
        }
      },
      "source": [
        "plot_model(model)"
      ],
      "execution_count": 10,
      "outputs": [
        {
          "output_type": "execute_result",
          "data": {
            "image/png": "[encoded data removed]",
            "text/plain": [
              "<IPython.core.display.Image object>"
            ]
          },
          "metadata": {
            "tags": []
          },
          "execution_count": 10
        }
      ]
    },
    {
      "cell_type": "markdown",
      "metadata": {
        "id": "k1mSZbzLrXXB",
        "colab_type": "text"
      },
      "source": [
        "## Train Our Model"
      ]
    },
    {
      "cell_type": "code",
      "metadata": {
        "id": "ZS4vXzubj1c9",
        "colab_type": "code",
        "outputId": "786225ba-312b-4613-b58b-fbd53d946616",
        "colab": {
          "base_uri": "https://localhost:8080/",
          "height": 714
        }
      },
      "source": [
        "epochs = 20\n",
        "batch_size = 1000\n",
        "history = {}\n",
        "\n",
        "model.compile(optimizer='adam', loss='categorical_crossentropy', metrics=['accuracy'])\n",
        "history[model.name] = model.fit(X_train, y_train_hot,\n",
        "                      validation_data=(X_val, y_val_hot),\n",
        "                      epochs=epochs,\n",
        "                      batch_size=batch_size,\n",
        "                      verbose=2)"
      ],
      "execution_count": 11,
      "outputs": [
        {
          "output_type": "stream",
          "text": [
            "Train on 60000 samples, validate on 60000 samples\n",
            "Epoch 1/20\n",
            "60000/60000 - 24s - loss: 1.5189 - accuracy: 0.4746 - val_loss: 0.3801 - val_accuracy: 0.8657\n",
            "Epoch 2/20\n",
            "60000/60000 - 19s - loss: 0.1512 - accuracy: 0.9514 - val_loss: 0.0770 - val_accuracy: 0.9758\n",
            "Epoch 3/20\n",
            "60000/60000 - 19s - loss: 0.0660 - accuracy: 0.9794 - val_loss: 0.0606 - val_accuracy: 0.9802\n",
            "Epoch 4/20\n",
            "60000/60000 - 20s - loss: 0.0510 - accuracy: 0.9840 - val_loss: 0.0452 - val_accuracy: 0.9853\n",
            "Epoch 5/20\n",
            "60000/60000 - 20s - loss: 0.0410 - accuracy: 0.9872 - val_loss: 0.0330 - val_accuracy: 0.9904\n",
            "Epoch 6/20\n",
            "60000/60000 - 20s - loss: 0.0354 - accuracy: 0.9891 - val_loss: 0.0256 - val_accuracy: 0.9923\n",
            "Epoch 7/20\n",
            "60000/60000 - 20s - loss: 0.0296 - accuracy: 0.9912 - val_loss: 0.0265 - val_accuracy: 0.9916\n",
            "Epoch 8/20\n",
            "60000/60000 - 20s - loss: 0.0270 - accuracy: 0.9914 - val_loss: 0.0164 - val_accuracy: 0.9950\n",
            "Epoch 9/20\n",
            "60000/60000 - 20s - loss: 0.0209 - accuracy: 0.9936 - val_loss: 0.0160 - val_accuracy: 0.9948\n",
            "Epoch 10/20\n",
            "60000/60000 - 20s - loss: 0.0191 - accuracy: 0.9938 - val_loss: 0.0164 - val_accuracy: 0.9945\n",
            "Epoch 11/20\n",
            "60000/60000 - 20s - loss: 0.0186 - accuracy: 0.9942 - val_loss: 0.0285 - val_accuracy: 0.9911\n",
            "Epoch 12/20\n",
            "60000/60000 - 20s - loss: 0.0145 - accuracy: 0.9954 - val_loss: 0.0112 - val_accuracy: 0.9964\n",
            "Epoch 13/20\n",
            "60000/60000 - 20s - loss: 0.0111 - accuracy: 0.9964 - val_loss: 0.0099 - val_accuracy: 0.9968\n",
            "Epoch 14/20\n",
            "60000/60000 - 20s - loss: 0.0100 - accuracy: 0.9968 - val_loss: 0.0083 - val_accuracy: 0.9975\n",
            "Epoch 15/20\n",
            "60000/60000 - 20s - loss: 0.0096 - accuracy: 0.9969 - val_loss: 0.0071 - val_accuracy: 0.9977\n",
            "Epoch 16/20\n",
            "60000/60000 - 20s - loss: 0.0084 - accuracy: 0.9972 - val_loss: 0.0064 - val_accuracy: 0.9980\n",
            "Epoch 17/20\n",
            "60000/60000 - 20s - loss: 0.0093 - accuracy: 0.9969 - val_loss: 0.0059 - val_accuracy: 0.9981\n",
            "Epoch 18/20\n",
            "60000/60000 - 20s - loss: 0.0075 - accuracy: 0.9975 - val_loss: 0.0058 - val_accuracy: 0.9981\n",
            "Epoch 19/20\n",
            "60000/60000 - 20s - loss: 0.0070 - accuracy: 0.9976 - val_loss: 0.0050 - val_accuracy: 0.9987\n",
            "Epoch 20/20\n",
            "60000/60000 - 20s - loss: 0.0068 - accuracy: 0.9977 - val_loss: 0.0076 - val_accuracy: 0.9974\n"
          ],
          "name": "stdout"
        }
      ]
    },
    {
      "cell_type": "markdown",
      "metadata": {
        "id": "naOu0gH4czkB",
        "colab_type": "text"
      },
      "source": [
        "## Evaluate Our Model"
      ]
    },
    {
      "cell_type": "code",
      "metadata": {
        "id": "yq3RzkO0czGq",
        "colab_type": "code",
        "colab": {
          "base_uri": "https://localhost:8080/",
          "height": 295
        },
        "outputId": "99ea6deb-cbf2-4cca-a34b-7ff55ec2aedf"
      },
      "source": [
        "plot_history(history[model.name])"
      ],
      "execution_count": 12,
      "outputs": [
        {
          "output_type": "display_data",
          "data": {
            "image/png": "[encoded data removed]",
            "text/plain": [
              "<Figure size 864x288 with 2 Axes>"
            ]
          },
          "metadata": {
            "tags": []
          }
        }
      ]
    },
    {
      "cell_type": "markdown",
      "metadata": {
        "id": "77Iogq16nY5q",
        "colab_type": "text"
      },
      "source": [
        "## Predict Data Test"
      ]
    },
    {
      "cell_type": "code",
      "metadata": {
        "id": "FuRj7DNsj9Ms",
        "colab_type": "code",
        "colab": {
          "base_uri": "https://localhost:8080/",
          "height": 34
        },
        "outputId": "23f7f777-9810-469a-acf6-783fdfe9859d"
      },
      "source": [
        "predictions = model.predict(X_test.astype('float32'))\n",
        "len(predictions)"
      ],
      "execution_count": 13,
      "outputs": [
        {
          "output_type": "execute_result",
          "data": {
            "text/plain": [
              "5000"
            ]
          },
          "metadata": {
            "tags": []
          },
          "execution_count": 13
        }
      ]
    },
    {
      "cell_type": "markdown",
      "metadata": {
        "id": "TzFZQ3SVm-DE",
        "colab_type": "text"
      },
      "source": [
        "## Visualize Some Data Test Prediction"
      ]
    },
    {
      "cell_type": "code",
      "metadata": {
        "id": "wayUkGJrkO3z",
        "colab_type": "code",
        "outputId": "51454418-fab6-42f3-e32e-f13da3f98d6f",
        "colab": {
          "base_uri": "https://localhost:8080/",
          "height": 252
        }
      },
      "source": [
        "fig, ax = plt.subplots(2,10,figsize=(15,4.5))\n",
        "fig.subplots_adjust(hspace=0.1, wspace=0.1)\n",
        "for j in range(0,2):\n",
        "    for i in range(0, 10):\n",
        "        ax[j,i].imshow(X_test[i+j*10].reshape(28,28), cmap='gray')\n",
        "        ax[j,i].set_title(np.argmax(predictions[i+j*10]))\n",
        "        ax[j,i].axis('off')\n",
        "plt.show()"
      ],
      "execution_count": 14,
      "outputs": [
        {
          "output_type": "display_data",
          "data": {
            "image/png": "[encoded data removed]",
            "text/plain": [
              "<Figure size 1080x324 with 20 Axes>"
            ]
          },
          "metadata": {
            "tags": []
          }
        }
      ]
    },
    {
      "cell_type": "markdown",
      "metadata": {
        "id": "J3bGBgOvm5Eq",
        "colab_type": "text"
      },
      "source": [
        "## Submit Prediction"
      ]
    },
    {
      "cell_type": "code",
      "metadata": {
        "id": "_WQuQHAlkecl",
        "colab_type": "code",
        "colab": {}
      },
      "source": [
        "submission = pd.read_csv(\"https://drive.google.com/uc?export=download&id=1GwgZ3mHkitSjFkSujq9VuFG141Mt5aMg\")\n",
        "submission['label'] = np.argmax(predictions, axis=1)"
      ],
      "execution_count": 0,
      "outputs": []
    },
    {
      "cell_type": "code",
      "metadata": {
        "id": "ad3-WnZ8kp6P",
        "colab_type": "code",
        "colab": {}
      },
      "source": [
        "submission.to_csv(\"submission1.csv\",index=False)"
      ],
      "execution_count": 0,
      "outputs": []
    }
  ]
}