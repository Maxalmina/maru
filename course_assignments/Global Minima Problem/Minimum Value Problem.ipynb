{
 "cells": [
  {
   "cell_type": "markdown",
   "metadata": {},
   "source": [
    "# AI: Simulated Annealing"
   ]
  },
  {
   "cell_type": "markdown",
   "metadata": {},
   "source": [
    "$f(x_1 ,  x_2) = -( sin(x_1) cos(x_2) + \\frac{4}{5} exp(1- \\sqrt{(x_1^2 + x_2^2)})$\n",
    "\n",
    "Find the minimum value of $f(x_1, x_2)$, where $-10 \\leq x_1 \\leq 10$ and $-10 \\leq x_2 \\leq 10$"
   ]
  },
  {
   "cell_type": "markdown",
   "metadata": {},
   "source": [
    "## Objective Function\n",
    "\n",
    "implement the function above to python code"
   ]
  },
  {
   "cell_type": "code",
   "execution_count": 8,
   "metadata": {},
   "outputs": [],
   "source": [
    "import numpy as np\n",
    "import seaborn as sns\n",
    "\n",
    "def f(x1, x2):\n",
    "#     return -((np.sin(x1) * np.cos(x2)) + ((4/5) * np.exp(1 - np.sqrt((x1 ** 2) + (x2 ** 2)))))\n",
    "#     return ((4 - (2.1 * x1**2) + ((x1**4) / 3))*(x1**2)) + (x1 * x2) + ((-4 + 4*x2**2)*x2**2)\n",
    "    return -np.cos(x1)*np.cos(x2)*np.exp(-(x1-np.pi)**2 - (x2-np.pi)**2)"
   ]
  },
  {
   "cell_type": "markdown",
   "metadata": {},
   "source": [
    "## Visualize the Function\n",
    "\n",
    "this is to describe our function look where $-10 \\leq x_1 \\leq 10$ and $-10 \\leq x_2 \\leq 10$"
   ]
  },
  {
   "cell_type": "code",
   "execution_count": 9,
   "metadata": {},
   "outputs": [],
   "source": [
    "# import matplotlib.pyplot as plt\n",
    "# import seaborn as sns\n",
    "# %matplotlib inline\n",
    "\n",
    "# # Design variables at mesh points\n",
    "# i1 = np.arange(-3.0, 3.0, 0.05)\n",
    "# i2 = np.arange(-2.0, 2.0, 0.05)\n",
    "# x1m, x2m = np.meshgrid(i1, i2)\n",
    "# fm = np.zeros(x1m.shape)\n",
    "# for i in range(x1m.shape[0]):\n",
    "#     for j in range(x1m.shape[1]):\n",
    "#         fm[i][j] = f(x1m[i][j], x2m[i][j])\n",
    "\n",
    "# # Create a contour plot\n",
    "# plt.figure(num=None, figsize=(10,10), dpi=100)#blank space\n",
    "# # Specify contour lines\n",
    "# # Plot contours\n",
    "# CS = plt.contour(x1m, x2m, fm)\n",
    "# # Label contours\n",
    "# plt.colorbar(CS)\n",
    "# plt.clabel(CS, inline=1, fontsize=10)\n",
    "# # Add some text to the plot\n",
    "# plt.title('F')\n",
    "# plt.xlabel('x1')\n",
    "# plt.ylabel('x2')\n",
    "\n",
    "# sns.kdeplot(x1m, cmap=\"Blues\", shade=True, shade_lowest=False)"
   ]
  },
  {
   "cell_type": "markdown",
   "metadata": {},
   "source": [
    "## Defining Cost Function\n",
    "\n",
    "there's several cost function but in this case we just use our objective function as cost function"
   ]
  },
  {
   "cell_type": "code",
   "execution_count": 10,
   "metadata": {},
   "outputs": [],
   "source": [
    "def cost(state):\n",
    "    return f(state[0], state[1])"
   ]
  },
  {
   "cell_type": "markdown",
   "metadata": {},
   "source": [
    "## Annealing Schedule\n",
    "\n",
    "this function for decrease the temperature in each iteration. Alpha is the only parameter in annealing schedule function."
   ]
  },
  {
   "cell_type": "code",
   "execution_count": 11,
   "metadata": {},
   "outputs": [],
   "source": [
    "def annealing_schedule(temperature, alpha):\n",
    "    return temperature * alpha"
   ]
  },
  {
   "cell_type": "markdown",
   "metadata": {},
   "source": [
    "## Probability Acceptance\n",
    "\n",
    "this function used when new cost are smaller than current cost."
   ]
  },
  {
   "cell_type": "code",
   "execution_count": 12,
   "metadata": {},
   "outputs": [],
   "source": [
    "def probability_acceptance(new_cost, current_cost, temperature):\n",
    "    delta_e = new_cost - current_cost\n",
    "    return np.exp(-(delta_e)/temperature)"
   ]
  },
  {
   "cell_type": "markdown",
   "metadata": {},
   "source": [
    "## Simulated Annealing Function\n",
    "\n",
    "this is simulated annealing algorithm."
   ]
  },
  {
   "cell_type": "code",
   "execution_count": 13,
   "metadata": {},
   "outputs": [],
   "source": [
    "import random\n",
    "\n",
    "def simmulated_annealing(initial_state, temperature, final_temperature, alpha):\n",
    "    solutions = {}\n",
    "\n",
    "    current_state = initial_state\n",
    "    current_cost = cost(initial_state)\n",
    "\n",
    "    #initialize best solution\n",
    "    best_solution = initial_state\n",
    "    best_cost = current_cost\n",
    "\n",
    "    j = 1\n",
    "    while (temperature > final_temperature):\n",
    "        for i in range(100):\n",
    "            x1 = random.uniform(-3, 3)\n",
    "            x2 = random.uniform(-2, 2)\n",
    "            new_state = [x1, x2]\n",
    "            new_cost = cost(new_state)\n",
    "\n",
    "        if (new_cost < current_cost):\n",
    "            current_state = new_state\n",
    "            current_cost = new_cost\n",
    "            if (current_cost < best_cost):\n",
    "                best_solution = current_state\n",
    "                best_cost = current_cost\n",
    "        else:\n",
    "            prob = probability_acceptance(new_cost, current_cost, temperature)\n",
    "            if (prob > random.uniform(0,1)):\n",
    "                current_state = new_state\n",
    "                current_cost = new_cost\n",
    "        solutions[j] = [temperature, best_solution, best_cost]\n",
    "        j += 1\n",
    "        temperature = annealing_schedule(temperature, alpha)\n",
    "\n",
    "    return solutions"
   ]
  },
  {
   "cell_type": "markdown",
   "metadata": {},
   "source": [
    "## Searching Result"
   ]
  },
  {
   "cell_type": "code",
   "execution_count": 14,
   "metadata": {
    "scrolled": true
   },
   "outputs": [
    {
     "name": "stdout",
     "output_type": "stream",
     "text": [
      "Minimum value: -0.1069476684033169\n",
      "Nilai x1 dan x2: [2.9684998658814292, 1.9976665341266386]\n"
     ]
    }
   ],
   "source": [
    "temperature = 100 # initial temperature\n",
    "final_temperature = 0.0001 # loops will end while temperature = final_temperature\n",
    "alpha = 0.9999 # parameter of annealing schedule\n",
    "\n",
    "#initialize state\n",
    "x1 = random.uniform(-3, 3)\n",
    "x2 = random.uniform(-2, 2)\n",
    "initial_state = [x1 ,x2]\n",
    "\n",
    "#find the solution\n",
    "solutions = simmulated_annealing(initial_state, temperature, final_temperature, alpha)\n",
    "print(\"Minimum value:\",solutions[list(solutions)[-1]][-1])\n",
    "print(\"Nilai x1 dan x2:\",solutions[list(solutions)[-1]][1])"
   ]
  },
  {
   "cell_type": "markdown",
   "metadata": {},
   "source": [
    "Minimum value:"
   ]
  },
  {
   "cell_type": "markdown",
   "metadata": {},
   "source": [
    "## Analyze the Result"
   ]
  },
  {
   "cell_type": "code",
   "execution_count": null,
   "metadata": {},
   "outputs": [],
   "source": [
    "temperature = []\n",
    "min_val = []\n",
    "for x in range(1,len(solutions)):\n",
    "    temperature.append(solutions[x][0])\n",
    "    min_val.append(solutions[x][-1])"
   ]
  },
  {
   "cell_type": "code",
   "execution_count": null,
   "metadata": {},
   "outputs": [],
   "source": [
    "solutions = np.array(solutions)\n",
    "plt.figure(figsize=(10,4), dpi=100)\n",
    "plt.plot(min_val, temperature)\n",
    "\n",
    "plt.xlabel('Cost (f(x))')\n",
    "plt.ylabel('decreasing temperature (T)')\n",
    "plt.title('Annealing Cost Movement')\n",
    "plt.gca().invert_xaxis()"
   ]
  }
 ],
 "metadata": {
  "kernelspec": {
   "display_name": "Python 3",
   "language": "python",
   "name": "python3"
  },
  "language_info": {
   "codemirror_mode": {
    "name": "ipython",
    "version": 3
   },
   "file_extension": ".py",
   "mimetype": "text/x-python",
   "name": "python",
   "nbconvert_exporter": "python",
   "pygments_lexer": "ipython3",
   "version": "3.6.8"
  }
 },
 "nbformat": 4,
 "nbformat_minor": 4
}
