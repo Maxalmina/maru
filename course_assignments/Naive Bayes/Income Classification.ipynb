{
 "cells": [
  {
   "cell_type": "markdown",
   "metadata": {},
   "source": [
    "# ML: Naïve Bayes\n",
    "\n",
    "Diberikan sebuah Trainset berupa himpunan data berisi 160 objek data yang memiliki 7 atribut input (age, workclass, education, marital-status, occupation, relationship, hours-per-week) dan 1 output (label kelas income) yang memiliki 2 kelas/label (>50K, dan <=50K). Bangunlah sebuah sistem klasifikasi menggunakan metode Naïve Bayes untuk menentukan kelas/label data testing dalam Testset. Sistem membaca masukan file TrainsetTugas1ML.csv  dan TestsetTugas1ML.csv dan mengeluarkan output berupa file TebakanTugas1ML.csv berupa satu kolom berisi 40 baris yang menyatakan kelas/label baris yang bersesuaian pada file TestsetTugas1ML.csv."
   ]
  },
  {
   "cell_type": "markdown",
   "metadata": {},
   "source": [
    "## Data Preparation"
   ]
  },
  {
   "cell_type": "code",
   "execution_count": 1,
   "metadata": {
    "scrolled": true
   },
   "outputs": [],
   "source": [
    "from sklearn.model_selection import train_test_split\n",
    "from imblearn.under_sampling import RandomUnderSampler\n",
    "from imblearn.over_sampling import RandomOverSampler\n",
    "from imblearn.under_sampling import TomekLinks\n",
    "from sklearn.metrics import accuracy_score\n",
    "\n",
    "from sklearn import preprocessing\n",
    "import pandas as pd\n",
    "import seaborn as sns\n",
    "import matplotlib.pyplot as plt\n",
    "%matplotlib inline\n",
    "\n",
    "\n",
    "\n",
    "data_train = pd.read_csv('TrainsetTugas1ML.csv')\n",
    "data_train = data_train.drop(columns=['id'])\n",
    "data_test = pd.read_csv('TestsetTugas1ML.csv')\n",
    "id_test = data_test['id']\n",
    "data_test = data_test.drop(columns=['id'])"
   ]
  },
  {
   "cell_type": "markdown",
   "metadata": {},
   "source": [
    "### Data Train"
   ]
  },
  {
   "cell_type": "code",
   "execution_count": 2,
   "metadata": {},
   "outputs": [
    {
     "data": {
      "text/html": [
       "<div>\n",
       "<style scoped>\n",
       "    .dataframe tbody tr th:only-of-type {\n",
       "        vertical-align: middle;\n",
       "    }\n",
       "\n",
       "    .dataframe tbody tr th {\n",
       "        vertical-align: top;\n",
       "    }\n",
       "\n",
       "    .dataframe thead th {\n",
       "        text-align: right;\n",
       "    }\n",
       "</style>\n",
       "<table border=\"1\" class=\"dataframe\">\n",
       "  <thead>\n",
       "    <tr style=\"text-align: right;\">\n",
       "      <th></th>\n",
       "      <th>age</th>\n",
       "      <th>workclass</th>\n",
       "      <th>education</th>\n",
       "      <th>marital-status</th>\n",
       "      <th>occupation</th>\n",
       "      <th>relationship</th>\n",
       "      <th>hours-per-week</th>\n",
       "      <th>income</th>\n",
       "    </tr>\n",
       "  </thead>\n",
       "  <tbody>\n",
       "    <tr>\n",
       "      <th>count</th>\n",
       "      <td>160</td>\n",
       "      <td>160</td>\n",
       "      <td>160</td>\n",
       "      <td>160</td>\n",
       "      <td>160</td>\n",
       "      <td>160</td>\n",
       "      <td>160</td>\n",
       "      <td>160</td>\n",
       "    </tr>\n",
       "    <tr>\n",
       "      <th>unique</th>\n",
       "      <td>3</td>\n",
       "      <td>3</td>\n",
       "      <td>3</td>\n",
       "      <td>3</td>\n",
       "      <td>3</td>\n",
       "      <td>3</td>\n",
       "      <td>3</td>\n",
       "      <td>2</td>\n",
       "    </tr>\n",
       "    <tr>\n",
       "      <th>top</th>\n",
       "      <td>young</td>\n",
       "      <td>Private</td>\n",
       "      <td>Bachelors</td>\n",
       "      <td>Married-civ-spouse</td>\n",
       "      <td>Exec-managerial</td>\n",
       "      <td>Husband</td>\n",
       "      <td>normal</td>\n",
       "      <td>&gt;50K</td>\n",
       "    </tr>\n",
       "    <tr>\n",
       "      <th>freq</th>\n",
       "      <td>86</td>\n",
       "      <td>137</td>\n",
       "      <td>72</td>\n",
       "      <td>127</td>\n",
       "      <td>62</td>\n",
       "      <td>126</td>\n",
       "      <td>149</td>\n",
       "      <td>120</td>\n",
       "    </tr>\n",
       "  </tbody>\n",
       "</table>\n",
       "</div>"
      ],
      "text/plain": [
       "          age workclass  education      marital-status       occupation  \\\n",
       "count     160       160        160                 160              160   \n",
       "unique      3         3          3                   3                3   \n",
       "top     young   Private  Bachelors  Married-civ-spouse  Exec-managerial   \n",
       "freq       86       137         72                 127               62   \n",
       "\n",
       "       relationship hours-per-week income  \n",
       "count           160            160    160  \n",
       "unique            3              3      2  \n",
       "top         Husband         normal   >50K  \n",
       "freq            126            149    120  "
      ]
     },
     "execution_count": 2,
     "metadata": {},
     "output_type": "execute_result"
    }
   ],
   "source": [
    "data_train.describe()"
   ]
  },
  {
   "cell_type": "markdown",
   "metadata": {},
   "source": [
    "### Data Test"
   ]
  },
  {
   "cell_type": "code",
   "execution_count": 3,
   "metadata": {},
   "outputs": [
    {
     "data": {
      "text/html": [
       "<div>\n",
       "<style scoped>\n",
       "    .dataframe tbody tr th:only-of-type {\n",
       "        vertical-align: middle;\n",
       "    }\n",
       "\n",
       "    .dataframe tbody tr th {\n",
       "        vertical-align: top;\n",
       "    }\n",
       "\n",
       "    .dataframe thead th {\n",
       "        text-align: right;\n",
       "    }\n",
       "</style>\n",
       "<table border=\"1\" class=\"dataframe\">\n",
       "  <thead>\n",
       "    <tr style=\"text-align: right;\">\n",
       "      <th></th>\n",
       "      <th>age</th>\n",
       "      <th>workclass</th>\n",
       "      <th>education</th>\n",
       "      <th>marital-status</th>\n",
       "      <th>occupation</th>\n",
       "      <th>relationship</th>\n",
       "      <th>hours-per-week</th>\n",
       "    </tr>\n",
       "  </thead>\n",
       "  <tbody>\n",
       "    <tr>\n",
       "      <th>0</th>\n",
       "      <td>young</td>\n",
       "      <td>Private</td>\n",
       "      <td>HS-grad</td>\n",
       "      <td>Never-married</td>\n",
       "      <td>Craft-repair</td>\n",
       "      <td>Not-in-family</td>\n",
       "      <td>normal</td>\n",
       "    </tr>\n",
       "    <tr>\n",
       "      <th>1</th>\n",
       "      <td>young</td>\n",
       "      <td>Private</td>\n",
       "      <td>Bachelors</td>\n",
       "      <td>Divorced</td>\n",
       "      <td>Exec-managerial</td>\n",
       "      <td>Not-in-family</td>\n",
       "      <td>normal</td>\n",
       "    </tr>\n",
       "    <tr>\n",
       "      <th>2</th>\n",
       "      <td>young</td>\n",
       "      <td>Private</td>\n",
       "      <td>Bachelors</td>\n",
       "      <td>Married-civ-spouse</td>\n",
       "      <td>Prof-specialty</td>\n",
       "      <td>Husband</td>\n",
       "      <td>normal</td>\n",
       "    </tr>\n",
       "    <tr>\n",
       "      <th>3</th>\n",
       "      <td>adult</td>\n",
       "      <td>Private</td>\n",
       "      <td>Some-college</td>\n",
       "      <td>Divorced</td>\n",
       "      <td>Prof-specialty</td>\n",
       "      <td>Not-in-family</td>\n",
       "      <td>normal</td>\n",
       "    </tr>\n",
       "    <tr>\n",
       "      <th>4</th>\n",
       "      <td>young</td>\n",
       "      <td>Private</td>\n",
       "      <td>HS-grad</td>\n",
       "      <td>Married-civ-spouse</td>\n",
       "      <td>Exec-managerial</td>\n",
       "      <td>Husband</td>\n",
       "      <td>many</td>\n",
       "    </tr>\n",
       "  </tbody>\n",
       "</table>\n",
       "</div>"
      ],
      "text/plain": [
       "     age workclass     education      marital-status       occupation  \\\n",
       "0  young   Private       HS-grad       Never-married     Craft-repair   \n",
       "1  young   Private     Bachelors            Divorced  Exec-managerial   \n",
       "2  young   Private     Bachelors  Married-civ-spouse   Prof-specialty   \n",
       "3  adult   Private  Some-college            Divorced   Prof-specialty   \n",
       "4  young   Private       HS-grad  Married-civ-spouse  Exec-managerial   \n",
       "\n",
       "    relationship hours-per-week  \n",
       "0  Not-in-family         normal  \n",
       "1  Not-in-family         normal  \n",
       "2        Husband         normal  \n",
       "3  Not-in-family         normal  \n",
       "4        Husband           many  "
      ]
     },
     "execution_count": 3,
     "metadata": {},
     "output_type": "execute_result"
    }
   ],
   "source": [
    "data_test.head()"
   ]
  },
  {
   "cell_type": "markdown",
   "metadata": {},
   "source": [
    "## Create the Model"
   ]
  },
  {
   "cell_type": "markdown",
   "metadata": {},
   "source": [
    "### Data Correlation"
   ]
  },
  {
   "cell_type": "code",
   "execution_count": 4,
   "metadata": {
    "scrolled": false
   },
   "outputs": [
    {
     "data": {
      "text/plain": [
       "<matplotlib.axes._subplots.AxesSubplot at 0x7fd24caee4a8>"
      ]
     },
     "execution_count": 4,
     "metadata": {},
     "output_type": "execute_result"
    },
    {
     "data": {
      "image/png": "[encoded data removed]",
      "text/plain": [
       "<Figure size 576x432 with 2 Axes>"
      ]
     },
     "metadata": {
      "needs_background": "light"
     },
     "output_type": "display_data"
    }
   ],
   "source": [
    "plt.rcParams['figure.figsize'] = (8, 6)\n",
    "plt.rcParams['font.size'] = 14\n",
    "\n",
    "data2 = data_train.drop(columns=['income'])\n",
    "\n",
    "for feature in data2.columns:\n",
    "  le = preprocessing.LabelEncoder()\n",
    "  le = le.fit(data2[feature])\n",
    "  data2[feature] = le.transform(data2[feature])\n",
    "sns.heatmap(data2.corr())"
   ]
  },
  {
   "cell_type": "markdown",
   "metadata": {},
   "source": [
    "### Model Function"
   ]
  },
  {
   "cell_type": "code",
   "execution_count": 5,
   "metadata": {},
   "outputs": [],
   "source": [
    "def naive_model(data, target):\n",
    "    features = data.columns[data.columns != target]\n",
    "    classes = data[target].unique()\n",
    "\n",
    "    probabilities = {}\n",
    "    kelas_probs = {}\n",
    "\n",
    "    for output_kelas in classes:\n",
    "        data2 = data[data[target] == output_kelas][features]\n",
    "        attribute_probs = {}\n",
    "        occurrences = len(data2)\n",
    "        for kolom in data2.columns:\n",
    "            label_attr = {}\n",
    "            for value,count in data2[kolom].value_counts().iteritems():\n",
    "                prob = (count+1)/(occurrences+3)\n",
    "                label_attr[value] = prob\n",
    "            attribute_probs[kolom] = label_attr\n",
    "        probabilities[output_kelas] = attribute_probs\n",
    "        kelas_probs[output_kelas] = (len(data2)+1)/(len(data)+2)\n",
    "        \n",
    "    return kelas_probs, probabilities"
   ]
  },
  {
   "cell_type": "markdown",
   "metadata": {},
   "source": [
    "## Naive Bayes Function"
   ]
  },
  {
   "cell_type": "code",
   "execution_count": 6,
   "metadata": {},
   "outputs": [],
   "source": [
    "def naive_bayes(data, probabilities, output_prob, target):\n",
    "    predicted = []\n",
    "    features = data.columns[data.columns != target]\n",
    "    output_labels = list(output_prob.keys())\n",
    "    for idx in data.index:\n",
    "        prod_0 = output_prob[output_labels[0]]\n",
    "        prod_1 = output_prob[output_labels[1]]\n",
    "        for feature in features:\n",
    "            prod_0 *= probabilities[output_labels[0]][feature][data[feature].loc[idx]]\n",
    "            prod_1 *= probabilities[output_labels[1]][feature][data[feature].loc[idx]]\n",
    "        \n",
    "        #Predict the class, >50K or <=50K\n",
    "        if prod_0 > prod_1:\n",
    "            predicted.append(output_labels[0])\n",
    "        else:\n",
    "            predicted.append(output_labels[1])\n",
    "    \n",
    "    return predicted"
   ]
  },
  {
   "cell_type": "markdown",
   "metadata": {},
   "source": [
    "## Accuracy"
   ]
  },
  {
   "cell_type": "code",
   "execution_count": 7,
   "metadata": {
    "scrolled": false
   },
   "outputs": [
    {
     "name": "stdout",
     "output_type": "stream",
     "text": [
      "{'>50K': 0.7469135802469136, '<=50K': 0.25308641975308643}\n"
     ]
    },
    {
     "data": {
      "text/plain": [
       "{'>50K': {'age': {'young': 0.5447154471544715,\n",
       "   'adult': 0.43902439024390244,\n",
       "   'old': 0.016260162601626018},\n",
       "  'workclass': {'Private': 0.8617886178861789,\n",
       "   'Local-gov': 0.07317073170731707,\n",
       "   'Self-emp-not-inc': 0.06504065040650407},\n",
       "  'education': {'Bachelors': 0.5365853658536586,\n",
       "   'HS-grad': 0.23577235772357724,\n",
       "   'Some-college': 0.22764227642276422},\n",
       "  'marital-status': {'Married-civ-spouse': 0.8861788617886179,\n",
       "   'Never-married': 0.06504065040650407,\n",
       "   'Divorced': 0.04878048780487805},\n",
       "  'occupation': {'Exec-managerial': 0.3902439024390244,\n",
       "   'Prof-specialty': 0.34146341463414637,\n",
       "   'Craft-repair': 0.2682926829268293},\n",
       "  'relationship': {'Husband': 0.8780487804878049,\n",
       "   'Not-in-family': 0.0975609756097561,\n",
       "   'Own-child': 0.024390243902439025},\n",
       "  'hours-per-week': {'normal': 0.9512195121951219,\n",
       "   'low': 0.032520325203252036,\n",
       "   'many': 0.016260162601626018}},\n",
       " '<=50K': {'age': {'young': 0.4883720930232558,\n",
       "   'adult': 0.46511627906976744,\n",
       "   'old': 0.046511627906976744},\n",
       "  'workclass': {'Private': 0.7674418604651163,\n",
       "   'Self-emp-not-inc': 0.18604651162790697,\n",
       "   'Local-gov': 0.046511627906976744},\n",
       "  'education': {'HS-grad': 0.4186046511627907,\n",
       "   'Some-college': 0.3953488372093023,\n",
       "   'Bachelors': 0.18604651162790697},\n",
       "  'marital-status': {'Married-civ-spouse': 0.46511627906976744,\n",
       "   'Never-married': 0.3488372093023256,\n",
       "   'Divorced': 0.18604651162790697},\n",
       "  'occupation': {'Craft-repair': 0.5116279069767442,\n",
       "   'Exec-managerial': 0.37209302325581395,\n",
       "   'Prof-specialty': 0.11627906976744186},\n",
       "  'relationship': {'Husband': 0.46511627906976744,\n",
       "   'Not-in-family': 0.3488372093023256,\n",
       "   'Own-child': 0.18604651162790697},\n",
       "  'hours-per-week': {'normal': 0.7906976744186046,\n",
       "   'low': 0.13953488372093023,\n",
       "   'many': 0.06976744186046512}}}"
      ]
     },
     "execution_count": 7,
     "metadata": {},
     "output_type": "execute_result"
    }
   ],
   "source": [
    "target = 'income'\n",
    "kelas_probs, probabilities = naive_model(data_train, target)\n",
    "print(kelas_probs)\n",
    "probabilities"
   ]
  },
  {
   "cell_type": "code",
   "execution_count": 8,
   "metadata": {},
   "outputs": [
    {
     "name": "stdout",
     "output_type": "stream",
     "text": [
      "Akurasi: 83.75%\n"
     ]
    }
   ],
   "source": [
    "data_predict = naive_bayes(data_train, probabilities, kelas_probs, target)\n",
    "akurasi = accuracy_score(data_predict, data_train['income'])*100\n",
    "print('Akurasi: '+str(akurasi)+'%')"
   ]
  },
  {
   "cell_type": "markdown",
   "metadata": {},
   "source": [
    "## Data Test Prediction"
   ]
  },
  {
   "cell_type": "code",
   "execution_count": 10,
   "metadata": {},
   "outputs": [],
   "source": [
    "test_predict = naive_bayes(data_test, probabilities, kelas_probs, target)\n",
    "\n",
    "pred = pd.DataFrame()\n",
    "pred['income'] = test_predict\n",
    "pred.to_csv('TebakanTugas1ML.csv',index=False)"
   ]
  }
 ],
 "metadata": {
  "kernelspec": {
   "display_name": "Python 3",
   "language": "python",
   "name": "python3"
  },
  "language_info": {
   "codemirror_mode": {
    "name": "ipython",
    "version": 3
   },
   "file_extension": ".py",
   "mimetype": "text/x-python",
   "name": "python",
   "nbconvert_exporter": "python",
   "pygments_lexer": "ipython3",
   "version": "3.6.6"
  }
 },
 "nbformat": 4,
 "nbformat_minor": 2
}
