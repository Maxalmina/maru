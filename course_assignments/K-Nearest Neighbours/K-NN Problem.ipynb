{
 "cells": [
  {
   "cell_type": "markdown",
   "metadata": {
    "colab_type": "text",
    "id": "PhPVqnBfai15"
   },
   "source": [
    "# AI: K-NN\n",
    "\n",
    "Build a classification system using k-Nearest Neighbors method from scratch to determine class/label of data in file `DataTest_KNN.csv` and use `DataTrain_KNN.csv` file to train the k-NN model.\n",
    "\n",
    "## Import Necessary Library"
   ]
  },
  {
   "cell_type": "code",
   "execution_count": 77,
   "metadata": {},
   "outputs": [],
   "source": [
    "import numpy as np\n",
    "import pandas as pd\n",
    "import matplotlib.pyplot as plt\n",
    "\n",
    "from scipy import stats\n",
    "from sklearn.metrics import accuracy_score\n",
    "from sklearn.model_selection import RepeatedStratifiedKFold"
   ]
  },
  {
   "cell_type": "markdown",
   "metadata": {
    "colab_type": "text",
    "id": "rEgiimioai18"
   },
   "source": [
    "## Read the Data Train"
   ]
  },
  {
   "cell_type": "code",
   "execution_count": 11,
   "metadata": {
    "colab": {},
    "colab_type": "code",
    "id": "ZwNQL6yXai2A"
   },
   "outputs": [
    {
     "name": "stdout",
     "output_type": "stream",
     "text": [
      "(800, 7)\n"
     ]
    },
    {
     "data": {
      "text/html": [
       "<div>\n",
       "<style scoped>\n",
       "    .dataframe tbody tr th:only-of-type {\n",
       "        vertical-align: middle;\n",
       "    }\n",
       "\n",
       "    .dataframe tbody tr th {\n",
       "        vertical-align: top;\n",
       "    }\n",
       "\n",
       "    .dataframe thead th {\n",
       "        text-align: right;\n",
       "    }\n",
       "</style>\n",
       "<table border=\"1\" class=\"dataframe\">\n",
       "  <thead>\n",
       "    <tr style=\"text-align: right;\">\n",
       "      <th></th>\n",
       "      <th>Index</th>\n",
       "      <th>X1</th>\n",
       "      <th>X2</th>\n",
       "      <th>X3</th>\n",
       "      <th>X4</th>\n",
       "      <th>X5</th>\n",
       "      <th>Y</th>\n",
       "    </tr>\n",
       "  </thead>\n",
       "  <tbody>\n",
       "    <tr>\n",
       "      <th>0</th>\n",
       "      <td>1</td>\n",
       "      <td>-1.608052</td>\n",
       "      <td>-0.377992</td>\n",
       "      <td>1.204209</td>\n",
       "      <td>1.313808</td>\n",
       "      <td>1.218265</td>\n",
       "      <td>1</td>\n",
       "    </tr>\n",
       "    <tr>\n",
       "      <th>1</th>\n",
       "      <td>2</td>\n",
       "      <td>0.393766</td>\n",
       "      <td>0.630685</td>\n",
       "      <td>-1.222062</td>\n",
       "      <td>0.090558</td>\n",
       "      <td>0.015893</td>\n",
       "      <td>0</td>\n",
       "    </tr>\n",
       "    <tr>\n",
       "      <th>2</th>\n",
       "      <td>3</td>\n",
       "      <td>-0.466243</td>\n",
       "      <td>0.276972</td>\n",
       "      <td>2.519047</td>\n",
       "      <td>0.673745</td>\n",
       "      <td>0.167290</td>\n",
       "      <td>1</td>\n",
       "    </tr>\n",
       "    <tr>\n",
       "      <th>3</th>\n",
       "      <td>4</td>\n",
       "      <td>1.471210</td>\n",
       "      <td>-0.046791</td>\n",
       "      <td>-0.303291</td>\n",
       "      <td>-0.365437</td>\n",
       "      <td>1.989287</td>\n",
       "      <td>0</td>\n",
       "    </tr>\n",
       "    <tr>\n",
       "      <th>4</th>\n",
       "      <td>5</td>\n",
       "      <td>-1.672906</td>\n",
       "      <td>1.255880</td>\n",
       "      <td>-0.355706</td>\n",
       "      <td>0.123143</td>\n",
       "      <td>-2.241941</td>\n",
       "      <td>1</td>\n",
       "    </tr>\n",
       "  </tbody>\n",
       "</table>\n",
       "</div>"
      ],
      "text/plain": [
       "   Index        X1        X2        X3        X4        X5  Y\n",
       "0      1 -1.608052 -0.377992  1.204209  1.313808  1.218265  1\n",
       "1      2  0.393766  0.630685 -1.222062  0.090558  0.015893  0\n",
       "2      3 -0.466243  0.276972  2.519047  0.673745  0.167290  1\n",
       "3      4  1.471210 -0.046791 -0.303291 -0.365437  1.989287  0\n",
       "4      5 -1.672906  1.255880 -0.355706  0.123143 -2.241941  1"
      ]
     },
     "execution_count": 11,
     "metadata": {},
     "output_type": "execute_result"
    }
   ],
   "source": [
    "data_train = pd.read_csv('DataTrain_KNN.csv')\n",
    "print(data_train.shape)\n",
    "data_train.head()"
   ]
  },
  {
   "cell_type": "code",
   "execution_count": 12,
   "metadata": {},
   "outputs": [],
   "source": [
    "X = data_train[data_train.columns[1:-1]]\n",
    "y = data_train.Y"
   ]
  },
  {
   "cell_type": "markdown",
   "metadata": {
    "colab_type": "text",
    "id": "9OYYAAwbai2V"
   },
   "source": [
    "## KNN Algorithm\n",
    "\n",
    "before we implement our k-NN algorithm to train the data train, we create several functions to help our k-NN algorithm"
   ]
  },
  {
   "cell_type": "markdown",
   "metadata": {
    "colab_type": "text",
    "id": "DDWc-s-tai2W"
   },
   "source": [
    "### Euclidiean Distance Function\n",
    "\n",
    "$ d(p,q) = \\sqrt{\\sum_{i=1}^{n} (p_i - q_i)^2}$"
   ]
  },
  {
   "cell_type": "code",
   "execution_count": 27,
   "metadata": {
    "colab": {},
    "colab_type": "code",
    "id": "J32vunUTai2Y"
   },
   "outputs": [],
   "source": [
    "def euclidean(a, b):\n",
    "    sum = 0\n",
    "    for i in range(len(a)):\n",
    "        sum += (a[i]-b[i])**2\n",
    "    return np.sqrt(sum)"
   ]
  },
  {
   "cell_type": "markdown",
   "metadata": {},
   "source": [
    "test the euclidean function"
   ]
  },
  {
   "cell_type": "code",
   "execution_count": 30,
   "metadata": {},
   "outputs": [
    {
     "data": {
      "text/plain": [
       "6.928203230275509"
      ]
     },
     "execution_count": 30,
     "metadata": {},
     "output_type": "execute_result"
    }
   ],
   "source": [
    "list_a = [1,2,3]\n",
    "list_b = [5,6,7]\n",
    "\n",
    "euclidean(list_a,list_b)"
   ]
  },
  {
   "cell_type": "markdown",
   "metadata": {
    "colab_type": "text",
    "id": "gQN6OAYwai2d"
   },
   "source": [
    "### K-NN Function\n",
    "\n",
    "determine the nearest neighbor(s) to classify the data"
   ]
  },
  {
   "cell_type": "code",
   "execution_count": 84,
   "metadata": {
    "colab": {},
    "colab_type": "code",
    "id": "PVwhnWi8ai2e"
   },
   "outputs": [],
   "source": [
    "def k_nearest_neighbors(k_value, X_train, y_train, X_test):\n",
    "    y_predict = []\n",
    "    for index, test in X_test.iterrows():\n",
    "        list_distance = []\n",
    "        for idx, train in X_train.iterrows():\n",
    "            list_distance.append(euclidean(test, train))\n",
    "        \n",
    "        top_k = np.argsort(list_distance)[:k_value]\n",
    "        y_predict.append(stats.mode(y_train.iloc[top_k].values)[0])\n",
    "        \n",
    "    return y_predict"
   ]
  },
  {
   "cell_type": "markdown",
   "metadata": {
    "colab_type": "text",
    "id": "d67wXs-Bai2k"
   },
   "source": [
    "## Hyperparameters Tuning\n",
    "\n",
    "### Observe The Best k\n",
    "search the k value between 1-25 inclusive"
   ]
  },
  {
   "cell_type": "code",
   "execution_count": 88,
   "metadata": {},
   "outputs": [],
   "source": [
    "rskf = RepeatedStratifiedKFold(n_splits=4, n_repeats=2, random_state=32)"
   ]
  },
  {
   "cell_type": "code",
   "execution_count": null,
   "metadata": {
    "colab": {},
    "colab_type": "code",
    "id": "3AlA6LOaai2m"
   },
   "outputs": [],
   "source": [
    "k_performance = []\n",
    "\n",
    "for k_value in range(2,25):\n",
    "    temp_performance = []\n",
    "    for train_index, val_index in rskf.split(X, y):\n",
    "        X_train, X_val = X.iloc[train_index], X.iloc[val_index]\n",
    "        y_train, y_val = y.iloc[train_index], y.iloc[val_index]\n",
    "        \n",
    "        predict_of_y = k_nearest_neighbors(k_value, X_train, y_train, X_val)\n",
    "        temp_performance.append(accuracy_score(predict_of_y, y_val))\n",
    "        \n",
    "    k_performance.append(np.mean(temp_performance))"
   ]
  },
  {
   "cell_type": "markdown",
   "metadata": {
    "colab_type": "text",
    "id": "tYhS7yTDl38U"
   },
   "source": [
    "### Get the Best K\n",
    "\n",
    "we observe the best k between value of 1-25 using accuracy metrics."
   ]
  },
  {
   "cell_type": "code",
   "execution_count": null,
   "metadata": {
    "colab": {
     "base_uri": "https://localhost:8080/",
     "height": 51
    },
    "colab_type": "code",
    "executionInfo": {
     "elapsed": 786,
     "status": "ok",
     "timestamp": 1543748769709,
     "user": {
      "displayName": "Maxalmina Satria Kahfi",
      "photoUrl": "https://lh6.googleusercontent.com/-RrZ7hIP-1tc/AAAAAAAAAAI/AAAAAAAAEGo/h9oysqJEv-I/s64/photo.jpg",
      "userId": "16959771658419902299"
     },
     "user_tz": -420
    },
    "id": "I0HLqFaxai2q",
    "outputId": "5ecbcd76-a5cf-429f-c115-90c97aff3767",
    "scrolled": true
   },
   "outputs": [],
   "source": [
    "print(\"K terbaik:\",k_performance.index(max(k_performance))+1)\n",
    "print(\"Akurasi K terbaik:\",k_performance[k_performance.index(max(k_performance))]*100,\"%\")"
   ]
  },
  {
   "cell_type": "markdown",
   "metadata": {
    "colab_type": "text",
    "id": "uOGSGo-HmQJQ"
   },
   "source": [
    "### Graph of Accuracy\n",
    "\n",
    "this graph describe all accuracy and the k"
   ]
  },
  {
   "cell_type": "code",
   "execution_count": null,
   "metadata": {
    "colab": {
     "base_uri": "https://localhost:8080/",
     "height": 347
    },
    "colab_type": "code",
    "executionInfo": {
     "elapsed": 1730615,
     "status": "ok",
     "timestamp": 1543747625163,
     "user": {
      "displayName": "Maxalmina Satria Kahfi",
      "photoUrl": "https://lh6.googleusercontent.com/-RrZ7hIP-1tc/AAAAAAAAAAI/AAAAAAAAEGo/h9oysqJEv-I/s64/photo.jpg",
      "userId": "16959771658419902299"
     },
     "user_tz": -420
    },
    "id": "98xSb13iai20",
    "outputId": "6d85d231-25b4-4909-a3c4-29aadee586d6"
   },
   "outputs": [],
   "source": [
    "plt.plot([x for x in range(1,25)], k_performance)\n",
    "plt.show()"
   ]
  },
  {
   "cell_type": "markdown",
   "metadata": {
    "colab_type": "text",
    "id": "3n1bqxhXZkE1"
   },
   "source": [
    "## Data Test Classification Process"
   ]
  },
  {
   "cell_type": "markdown",
   "metadata": {
    "colab_type": "text",
    "id": "gvbS3tq5mbmO"
   },
   "source": [
    " ### Read the Data Test"
   ]
  },
  {
   "cell_type": "code",
   "execution_count": null,
   "metadata": {
    "colab": {
     "base_uri": "https://localhost:8080/",
     "height": 1969
    },
    "colab_type": "code",
    "executionInfo": {
     "elapsed": 823,
     "status": "ok",
     "timestamp": 1543748652608,
     "user": {
      "displayName": "Maxalmina Satria Kahfi",
      "photoUrl": "https://lh6.googleusercontent.com/-RrZ7hIP-1tc/AAAAAAAAAAI/AAAAAAAAEGo/h9oysqJEv-I/s64/photo.jpg",
      "userId": "16959771658419902299"
     },
     "user_tz": -420
    },
    "id": "H-7aLkvMaBI9",
    "outputId": "0b7e7bda-ce86-4fda-aad3-f57cc8b476f2"
   },
   "outputs": [],
   "source": [
    "data_test = pd.read_csv('DataTest_KNN.csv')\n",
    "data_test.head()"
   ]
  },
  {
   "cell_type": "markdown",
   "metadata": {
    "colab_type": "text",
    "id": "adwsrbbQmtY4"
   },
   "source": [
    "### Label Prediction for Data Test\n",
    "\n",
    "after we have the best k, now we predict the class using k-NN algorithm with the best k"
   ]
  },
  {
   "cell_type": "code",
   "execution_count": null,
   "metadata": {
    "colab": {
     "base_uri": "https://localhost:8080/",
     "height": 3417
    },
    "colab_type": "code",
    "executionInfo": {
     "elapsed": 24335,
     "status": "ok",
     "timestamp": 1543749452311,
     "user": {
      "displayName": "Maxalmina Satria Kahfi",
      "photoUrl": "https://lh6.googleusercontent.com/-RrZ7hIP-1tc/AAAAAAAAAAI/AAAAAAAAEGo/h9oysqJEv-I/s64/photo.jpg",
      "userId": "16959771658419902299"
     },
     "user_tz": -420
    },
    "id": "pbXY7_6ZZtoV",
    "outputId": "fd76a4e3-6615-447d-bfd0-8063d37878be"
   },
   "outputs": [],
   "source": [
    "k = 8\n",
    "y_prediction = k_nearest_neighbors(k, data_test, data_train)"
   ]
  },
  {
   "cell_type": "markdown",
   "metadata": {},
   "source": [
    "### Write the Result\n",
    "\n",
    "save the class prediction"
   ]
  },
  {
   "cell_type": "code",
   "execution_count": null,
   "metadata": {
    "colab": {},
    "colab_type": "code",
    "id": "K7Q3WovmoTqI"
   },
   "outputs": [],
   "source": []
  }
 ],
 "metadata": {
  "colab": {
   "collapsed_sections": [],
   "name": "K-NN Tugas3 AI.ipynb",
   "provenance": [],
   "version": "0.3.2"
  },
  "kernelspec": {
   "display_name": "Python 3",
   "language": "python",
   "name": "python3"
  },
  "language_info": {
   "codemirror_mode": {
    "name": "ipython",
    "version": 3
   },
   "file_extension": ".py",
   "mimetype": "text/x-python",
   "name": "python",
   "nbconvert_exporter": "python",
   "pygments_lexer": "ipython3",
   "version": "3.6.8"
  }
 },
 "nbformat": 4,
 "nbformat_minor": 4
}
