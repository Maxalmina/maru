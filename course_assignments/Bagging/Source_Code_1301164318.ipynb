{
 "cells": [
  {
   "cell_type": "markdown",
   "metadata": {
    "colab_type": "text",
    "id": "M8yRVB9oMZD9"
   },
   "source": [
    "# Bagging - Naïve Bayes"
   ]
  },
  {
   "cell_type": "markdown",
   "metadata": {
    "colab_type": "text",
    "id": "fy3mvkCRT9AI"
   },
   "source": [
    "## Tools"
   ]
  },
  {
   "cell_type": "code",
   "execution_count": 1,
   "metadata": {
    "colab": {},
    "colab_type": "code",
    "id": "uc4unyMaNKqq"
   },
   "outputs": [],
   "source": [
    "from sklearn.naive_bayes import GaussianNB\n",
    "from sklearn.metrics import accuracy_score\n",
    "\n",
    "import pandas as pd\n",
    "import numpy as np"
   ]
  },
  {
   "cell_type": "markdown",
   "metadata": {
    "colab_type": "text",
    "id": "sfVQCK8oT-3s"
   },
   "source": [
    "## Data"
   ]
  },
  {
   "cell_type": "markdown",
   "metadata": {
    "colab_type": "text",
    "id": "uZJQdow0UWKJ"
   },
   "source": [
    "### Train"
   ]
  },
  {
   "cell_type": "code",
   "execution_count": 2,
   "metadata": {
    "colab": {
     "base_uri": "https://localhost:8080/",
     "height": 216
    },
    "colab_type": "code",
    "id": "I8uWni01MR3K",
    "outputId": "d382caaa-61f2-4d0f-96d7-3f66c62638aa"
   },
   "outputs": [
    {
     "name": "stdout",
     "output_type": "stream",
     "text": [
      "(298, 3)\n"
     ]
    },
    {
     "data": {
      "text/html": [
       "<div>\n",
       "<style scoped>\n",
       "    .dataframe tbody tr th:only-of-type {\n",
       "        vertical-align: middle;\n",
       "    }\n",
       "\n",
       "    .dataframe tbody tr th {\n",
       "        vertical-align: top;\n",
       "    }\n",
       "\n",
       "    .dataframe thead th {\n",
       "        text-align: right;\n",
       "    }\n",
       "</style>\n",
       "<table border=\"1\" class=\"dataframe\">\n",
       "  <thead>\n",
       "    <tr style=\"text-align: right;\">\n",
       "      <th></th>\n",
       "      <th>X1</th>\n",
       "      <th>X2</th>\n",
       "      <th>Class</th>\n",
       "    </tr>\n",
       "  </thead>\n",
       "  <tbody>\n",
       "    <tr>\n",
       "      <th>0</th>\n",
       "      <td>0.75</td>\n",
       "      <td>15.60</td>\n",
       "      <td>2</td>\n",
       "    </tr>\n",
       "    <tr>\n",
       "      <th>1</th>\n",
       "      <td>0.85</td>\n",
       "      <td>17.45</td>\n",
       "      <td>2</td>\n",
       "    </tr>\n",
       "    <tr>\n",
       "      <th>2</th>\n",
       "      <td>2.90</td>\n",
       "      <td>21.15</td>\n",
       "      <td>2</td>\n",
       "    </tr>\n",
       "    <tr>\n",
       "      <th>3</th>\n",
       "      <td>3.10</td>\n",
       "      <td>21.85</td>\n",
       "      <td>2</td>\n",
       "    </tr>\n",
       "    <tr>\n",
       "      <th>4</th>\n",
       "      <td>3.40</td>\n",
       "      <td>19.70</td>\n",
       "      <td>2</td>\n",
       "    </tr>\n",
       "  </tbody>\n",
       "</table>\n",
       "</div>"
      ],
      "text/plain": [
       "     X1     X2  Class\n",
       "0  0.75  15.60      2\n",
       "1  0.85  17.45      2\n",
       "2  2.90  21.15      2\n",
       "3  3.10  21.85      2\n",
       "4  3.40  19.70      2"
      ]
     },
     "execution_count": 2,
     "metadata": {},
     "output_type": "execute_result"
    }
   ],
   "source": [
    "datatrain = pd.read_csv('TrainsetTugas4ML.csv')\n",
    "print(datatrain.shape)\n",
    "datatrain.head()"
   ]
  },
  {
   "cell_type": "markdown",
   "metadata": {
    "colab_type": "text",
    "id": "Oe9KwEk3V84U"
   },
   "source": [
    "### Test"
   ]
  },
  {
   "cell_type": "code",
   "execution_count": 3,
   "metadata": {
    "colab": {
     "base_uri": "https://localhost:8080/",
     "height": 216
    },
    "colab_type": "code",
    "id": "bw9iM3HzNbf8",
    "outputId": "8a6601dd-3a2a-4759-9aa0-04e7c24e18bd"
   },
   "outputs": [
    {
     "name": "stdout",
     "output_type": "stream",
     "text": [
      "(75, 3)\n"
     ]
    },
    {
     "data": {
      "text/html": [
       "<div>\n",
       "<style scoped>\n",
       "    .dataframe tbody tr th:only-of-type {\n",
       "        vertical-align: middle;\n",
       "    }\n",
       "\n",
       "    .dataframe tbody tr th {\n",
       "        vertical-align: top;\n",
       "    }\n",
       "\n",
       "    .dataframe thead th {\n",
       "        text-align: right;\n",
       "    }\n",
       "</style>\n",
       "<table border=\"1\" class=\"dataframe\">\n",
       "  <thead>\n",
       "    <tr style=\"text-align: right;\">\n",
       "      <th></th>\n",
       "      <th>X1</th>\n",
       "      <th>X2</th>\n",
       "      <th>Class</th>\n",
       "    </tr>\n",
       "  </thead>\n",
       "  <tbody>\n",
       "    <tr>\n",
       "      <th>0</th>\n",
       "      <td>3.30</td>\n",
       "      <td>15.45</td>\n",
       "      <td>NaN</td>\n",
       "    </tr>\n",
       "    <tr>\n",
       "      <th>1</th>\n",
       "      <td>3.90</td>\n",
       "      <td>21.85</td>\n",
       "      <td>NaN</td>\n",
       "    </tr>\n",
       "    <tr>\n",
       "      <th>2</th>\n",
       "      <td>4.60</td>\n",
       "      <td>18.25</td>\n",
       "      <td>NaN</td>\n",
       "    </tr>\n",
       "    <tr>\n",
       "      <th>3</th>\n",
       "      <td>5.20</td>\n",
       "      <td>23.40</td>\n",
       "      <td>NaN</td>\n",
       "    </tr>\n",
       "    <tr>\n",
       "      <th>4</th>\n",
       "      <td>7.05</td>\n",
       "      <td>19.90</td>\n",
       "      <td>NaN</td>\n",
       "    </tr>\n",
       "  </tbody>\n",
       "</table>\n",
       "</div>"
      ],
      "text/plain": [
       "     X1     X2  Class\n",
       "0  3.30  15.45    NaN\n",
       "1  3.90  21.85    NaN\n",
       "2  4.60  18.25    NaN\n",
       "3  5.20  23.40    NaN\n",
       "4  7.05  19.90    NaN"
      ]
     },
     "execution_count": 3,
     "metadata": {},
     "output_type": "execute_result"
    }
   ],
   "source": [
    "datatest = pd.read_csv('TestsetTugas4ML.csv')\n",
    "print(datatest.shape)\n",
    "datatest.head()"
   ]
  },
  {
   "cell_type": "markdown",
   "metadata": {
    "colab_type": "text",
    "id": "HppyHoxqPXMq"
   },
   "source": [
    "## Bootstrap and Model"
   ]
  },
  {
   "cell_type": "markdown",
   "metadata": {
    "colab_type": "text",
    "id": "J9yUDsXfQSLT"
   },
   "source": [
    "### Make Naïve Bayes Classifier Object"
   ]
  },
  {
   "cell_type": "code",
   "execution_count": 4,
   "metadata": {
    "colab": {},
    "colab_type": "code",
    "id": "7hp7PT7wR-jJ"
   },
   "outputs": [],
   "source": [
    "gnb = GaussianNB()"
   ]
  },
  {
   "cell_type": "markdown",
   "metadata": {
    "colab_type": "text",
    "id": "Rk1Cu82STDMo"
   },
   "source": [
    "### Bootstraps and Models"
   ]
  },
  {
   "cell_type": "code",
   "execution_count": 5,
   "metadata": {
    "colab": {
     "base_uri": "https://localhost:8080/",
     "height": 745
    },
    "colab_type": "code",
    "id": "qYYC6QyRPsI2",
    "outputId": "d8183054-d1de-434f-e12e-0dfadae5fcc1"
   },
   "outputs": [
    {
     "name": "stdout",
     "output_type": "stream",
     "text": [
      "Bootstrap Ke-1\n",
      "Length of Bootstrap: 150\n",
      "       X1     X2  Class\n",
      "168  24.5  14.70      2\n",
      "117  20.4   7.00      1\n",
      "274  38.5  14.25      1\n",
      "200  29.4   4.85      1\n",
      "241  35.9   9.35      1\n",
      "Bootstrap Ke-2\n",
      "Length of Bootstrap: 150\n",
      "        X1     X2  Class\n",
      "290  40.45  12.50      1\n",
      "0     0.75  15.60      2\n",
      "6     4.40  20.05      2\n",
      "168  24.50  14.70      2\n",
      "221  32.90   4.15      1\n",
      "Bootstrap Ke-3\n",
      "Length of Bootstrap: 150\n",
      "        X1     X2  Class\n",
      "187  27.15   3.15      1\n",
      "263  37.70  10.80      1\n",
      "136  22.30   7.70      1\n",
      "208  30.80   3.95      1\n",
      "156  23.65   7.20      1\n",
      "Bootstrap Ke-4\n",
      "Length of Bootstrap: 150\n",
      "        X1     X2  Class\n",
      "241  35.90   9.35      1\n",
      "60   16.90  15.35      1\n",
      "156  23.65   7.20      1\n",
      "123  21.05   7.00      1\n",
      "244  36.15   8.40      1\n",
      "Bootstrap Ke-5\n",
      "Length of Bootstrap: 150\n",
      "       X1     X2  Class\n",
      "206  30.6   3.40      1\n",
      "294  40.7  16.45      1\n",
      "260  37.5  13.40      1\n",
      "273  38.5  12.20      1\n",
      "72   17.3  11.20      1\n"
     ]
    }
   ],
   "source": [
    "models = []\n",
    "number_bootstrap = 5\n",
    "\n",
    "for i in range(number_bootstrap):\n",
    "    bootstrap = []\n",
    "\n",
    "    for j in range(150):\n",
    "        bootstrap .append(datatrain.iloc[np.random.randint(0, datatrain.shape[0])])\n",
    "\n",
    "    subtrain = pd.DataFrame(bootstrap )\n",
    "    subtrain['Class'] = subtrain['Class'].astype('int64')\n",
    "\n",
    "    model = gnb.fit(subtrain[['X1','X2']], subtrain['Class'])\n",
    "    models.append(model)\n",
    "  \n",
    "    print('Bootstrap Ke-' + str(i+1))\n",
    "    print('Length of Bootstrap: '+ str(subtrain.shape[0]))\n",
    "    print(subtrain.head())"
   ]
  },
  {
   "cell_type": "markdown",
   "metadata": {
    "colab_type": "text",
    "id": "DVi7B28yboaK"
   },
   "source": [
    "## Bagging Process"
   ]
  },
  {
   "cell_type": "code",
   "execution_count": 6,
   "metadata": {
    "colab": {},
    "colab_type": "code",
    "id": "9K3TPV8FhD9D"
   },
   "outputs": [],
   "source": [
    "def sign(value):\n",
    "    if value > 5:\n",
    "        return 2\n",
    "    else:\n",
    "        return 1"
   ]
  },
  {
   "cell_type": "code",
   "execution_count": 7,
   "metadata": {
    "colab": {},
    "colab_type": "code",
    "id": "Z2lCHDXhhqk8"
   },
   "outputs": [],
   "source": [
    "def bagging(data_train, models, test=True):\n",
    "    X_train = data_train[data_train.columns[:-1]]\n",
    "  \n",
    "    prediksi = []\n",
    "  \n",
    "    i = 1\n",
    "    for model in models:\n",
    "        pred = model.predict(X_train)\n",
    "        prediksi.append(pred)\n",
    "        if test == False:\n",
    "            print('Model Ke-' + str(i) + ' , akurasi: ' + str(accuracy_score(pred, data_train['Class'])*100))\n",
    "            i += 1\n",
    "  \n",
    "    zipped_pred = zip(prediksi[0],prediksi[1],prediksi[2],prediksi[3],prediksi[4])\n",
    "    sum_pred = [sum(item) for item in zipped_pred]\n",
    "    y_prediction = list(map(sign, sum_pred))\n",
    "  \n",
    "    return y_prediction"
   ]
  },
  {
   "cell_type": "code",
   "execution_count": 8,
   "metadata": {
    "colab": {
     "base_uri": "https://localhost:8080/",
     "height": 165
    },
    "colab_type": "code",
    "id": "B-hRwAKUi5XI",
    "outputId": "4e26bc03-ddeb-4f78-8c03-22c615e36cdc"
   },
   "outputs": [
    {
     "name": "stdout",
     "output_type": "stream",
     "text": [
      "[GaussianNB(priors=None, var_smoothing=1e-09), GaussianNB(priors=None, var_smoothing=1e-09), GaussianNB(priors=None, var_smoothing=1e-09), GaussianNB(priors=None, var_smoothing=1e-09), GaussianNB(priors=None, var_smoothing=1e-09)]\n",
      "Model Ke-1 , akurasi: 94.29530201342283\n",
      "Model Ke-2 , akurasi: 94.29530201342283\n",
      "Model Ke-3 , akurasi: 94.29530201342283\n",
      "Model Ke-4 , akurasi: 94.29530201342283\n",
      "Model Ke-5 , akurasi: 94.29530201342283\n",
      "Total Akurasi: 94.29530201342283\n"
     ]
    }
   ],
   "source": [
    "print(models)\n",
    "prediksi = bagging(datatrain, models, False)\n",
    "print('Total Akurasi: '+ str(accuracy_score(prediksi, datatrain['Class'])*100))"
   ]
  },
  {
   "cell_type": "markdown",
   "metadata": {
    "colab_type": "text",
    "id": "yvPFzBAw3ntr"
   },
   "source": [
    "## Bagging for Test"
   ]
  },
  {
   "cell_type": "code",
   "execution_count": 9,
   "metadata": {
    "colab": {
     "base_uri": "https://localhost:8080/",
     "height": 198
    },
    "colab_type": "code",
    "id": "r4TrjB6h3qzw",
    "outputId": "e41df9a9-5777-4859-cbf9-d9b1fc20db92"
   },
   "outputs": [
    {
     "data": {
      "text/html": [
       "<div>\n",
       "<style scoped>\n",
       "    .dataframe tbody tr th:only-of-type {\n",
       "        vertical-align: middle;\n",
       "    }\n",
       "\n",
       "    .dataframe tbody tr th {\n",
       "        vertical-align: top;\n",
       "    }\n",
       "\n",
       "    .dataframe thead th {\n",
       "        text-align: right;\n",
       "    }\n",
       "</style>\n",
       "<table border=\"1\" class=\"dataframe\">\n",
       "  <thead>\n",
       "    <tr style=\"text-align: right;\">\n",
       "      <th></th>\n",
       "      <th>X1</th>\n",
       "      <th>X2</th>\n",
       "      <th>Class</th>\n",
       "    </tr>\n",
       "  </thead>\n",
       "  <tbody>\n",
       "    <tr>\n",
       "      <th>0</th>\n",
       "      <td>3.30</td>\n",
       "      <td>15.45</td>\n",
       "      <td>2</td>\n",
       "    </tr>\n",
       "    <tr>\n",
       "      <th>1</th>\n",
       "      <td>3.90</td>\n",
       "      <td>21.85</td>\n",
       "      <td>2</td>\n",
       "    </tr>\n",
       "    <tr>\n",
       "      <th>2</th>\n",
       "      <td>4.60</td>\n",
       "      <td>18.25</td>\n",
       "      <td>2</td>\n",
       "    </tr>\n",
       "    <tr>\n",
       "      <th>3</th>\n",
       "      <td>5.20</td>\n",
       "      <td>23.40</td>\n",
       "      <td>2</td>\n",
       "    </tr>\n",
       "    <tr>\n",
       "      <th>4</th>\n",
       "      <td>7.05</td>\n",
       "      <td>19.90</td>\n",
       "      <td>2</td>\n",
       "    </tr>\n",
       "  </tbody>\n",
       "</table>\n",
       "</div>"
      ],
      "text/plain": [
       "     X1     X2  Class\n",
       "0  3.30  15.45      2\n",
       "1  3.90  21.85      2\n",
       "2  4.60  18.25      2\n",
       "3  5.20  23.40      2\n",
       "4  7.05  19.90      2"
      ]
     },
     "execution_count": 9,
     "metadata": {},
     "output_type": "execute_result"
    }
   ],
   "source": [
    "y_prediksi = bagging(datatest, models)\n",
    "datatest['Class'] = y_prediksi\n",
    "datatest.head()"
   ]
  },
  {
   "cell_type": "markdown",
   "metadata": {
    "colab_type": "text",
    "id": "5DJRMpux3tO3"
   },
   "source": [
    "## Save It\n",
    "\n",
    "save the prediction into `TebakanTugas4ML.csv`"
   ]
  },
  {
   "cell_type": "code",
   "execution_count": 10,
   "metadata": {
    "colab": {},
    "colab_type": "code",
    "id": "kyNT4APY3w61"
   },
   "outputs": [],
   "source": [
    "datatest.to_csv('TebakanTugas4ML.csv')"
   ]
  }
 ],
 "metadata": {
  "accelerator": "GPU",
  "colab": {
   "collapsed_sections": [],
   "name": "Bagging - Ensemble.ipynb",
   "provenance": [],
   "toc_visible": true,
   "version": "0.3.2"
  },
  "kernelspec": {
   "display_name": "Python 3",
   "language": "python",
   "name": "python3"
  },
  "language_info": {
   "codemirror_mode": {
    "name": "ipython",
    "version": 3
   },
   "file_extension": ".py",
   "mimetype": "text/x-python",
   "name": "python",
   "nbconvert_exporter": "python",
   "pygments_lexer": "ipython3",
   "version": "3.7.3"
  }
 },
 "nbformat": 4,
 "nbformat_minor": 1
}
