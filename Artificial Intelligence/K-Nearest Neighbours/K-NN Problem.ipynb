{
 "cells": [
  {
   "cell_type": "markdown",
   "metadata": {
    "colab_type": "text",
    "id": "PhPVqnBfai15"
   },
   "source": [
    "# AI: K-NN"
   ]
  },
  {
   "cell_type": "markdown",
   "metadata": {
    "colab_type": "text",
    "id": "oJlU0U_Bai17"
   },
   "source": [
    "Build a classification system using k-Nearest Neighbors method to determine class/label of data testing in file DataTest_Tugas3_AI.csv"
   ]
  },
  {
   "cell_type": "markdown",
   "metadata": {
    "colab_type": "text",
    "id": "rEgiimioai18"
   },
   "source": [
    "### Read the Data Train"
   ]
  },
  {
   "cell_type": "code",
   "execution_count": 1,
   "metadata": {
    "colab": {},
    "colab_type": "code",
    "id": "ZwNQL6yXai2A"
   },
   "outputs": [],
   "source": [
    "import pandas as pd\n",
    "\n",
    "input_data_train = pd.read_csv('DataTrain_KNN.csv')"
   ]
  },
  {
   "cell_type": "markdown",
   "metadata": {
    "colab_type": "text",
    "id": "95ghy1_Gai2K"
   },
   "source": [
    "### Shuffle Data Train"
   ]
  },
  {
   "cell_type": "code",
   "execution_count": 2,
   "metadata": {
    "colab": {
     "base_uri": "https://localhost:8080/",
     "height": 1969
    },
    "colab_type": "code",
    "executionInfo": {
     "elapsed": 969,
     "status": "ok",
     "timestamp": 1543745883173,
     "user": {
      "displayName": "Maxalmina Satria Kahfi",
      "photoUrl": "https://lh6.googleusercontent.com/-RrZ7hIP-1tc/AAAAAAAAAAI/AAAAAAAAEGo/h9oysqJEv-I/s64/photo.jpg",
      "userId": "16959771658419902299"
     },
     "user_tz": -420
    },
    "id": "HAAgSqvaai2L",
    "outputId": "6157cd2a-3da6-4c90-dd3e-caf164cc6ca7",
    "scrolled": true
   },
   "outputs": [
    {
     "data": {
      "text/html": [
       "<div>\n",
       "<style scoped>\n",
       "    .dataframe tbody tr th:only-of-type {\n",
       "        vertical-align: middle;\n",
       "    }\n",
       "\n",
       "    .dataframe tbody tr th {\n",
       "        vertical-align: top;\n",
       "    }\n",
       "\n",
       "    .dataframe thead th {\n",
       "        text-align: right;\n",
       "    }\n",
       "</style>\n",
       "<table border=\"1\" class=\"dataframe\">\n",
       "  <thead>\n",
       "    <tr style=\"text-align: right;\">\n",
       "      <th></th>\n",
       "      <th>Index</th>\n",
       "      <th>X1</th>\n",
       "      <th>X2</th>\n",
       "      <th>X3</th>\n",
       "      <th>X4</th>\n",
       "      <th>X5</th>\n",
       "      <th>Y</th>\n",
       "    </tr>\n",
       "  </thead>\n",
       "  <tbody>\n",
       "    <tr>\n",
       "      <th>731</th>\n",
       "      <td>732</td>\n",
       "      <td>1.883441</td>\n",
       "      <td>2.394509</td>\n",
       "      <td>2.527362</td>\n",
       "      <td>1.207222</td>\n",
       "      <td>-1.350574</td>\n",
       "      <td>2</td>\n",
       "    </tr>\n",
       "    <tr>\n",
       "      <th>90</th>\n",
       "      <td>91</td>\n",
       "      <td>-1.389664</td>\n",
       "      <td>0.426532</td>\n",
       "      <td>-1.701228</td>\n",
       "      <td>0.843361</td>\n",
       "      <td>1.103412</td>\n",
       "      <td>0</td>\n",
       "    </tr>\n",
       "    <tr>\n",
       "      <th>63</th>\n",
       "      <td>64</td>\n",
       "      <td>0.565149</td>\n",
       "      <td>0.381194</td>\n",
       "      <td>-0.658621</td>\n",
       "      <td>0.168079</td>\n",
       "      <td>0.619766</td>\n",
       "      <td>0</td>\n",
       "    </tr>\n",
       "    <tr>\n",
       "      <th>67</th>\n",
       "      <td>68</td>\n",
       "      <td>-0.808326</td>\n",
       "      <td>0.501562</td>\n",
       "      <td>2.292328</td>\n",
       "      <td>0.586364</td>\n",
       "      <td>0.339666</td>\n",
       "      <td>1</td>\n",
       "    </tr>\n",
       "    <tr>\n",
       "      <th>415</th>\n",
       "      <td>416</td>\n",
       "      <td>0.775205</td>\n",
       "      <td>2.533203</td>\n",
       "      <td>2.837809</td>\n",
       "      <td>2.132197</td>\n",
       "      <td>-1.235145</td>\n",
       "      <td>2</td>\n",
       "    </tr>\n",
       "  </tbody>\n",
       "</table>\n",
       "</div>"
      ],
      "text/plain": [
       "     Index        X1        X2        X3        X4        X5  Y\n",
       "731    732  1.883441  2.394509  2.527362  1.207222 -1.350574  2\n",
       "90      91 -1.389664  0.426532 -1.701228  0.843361  1.103412  0\n",
       "63      64  0.565149  0.381194 -0.658621  0.168079  0.619766  0\n",
       "67      68 -0.808326  0.501562  2.292328  0.586364  0.339666  1\n",
       "415    416  0.775205  2.533203  2.837809  2.132197 -1.235145  2"
      ]
     },
     "execution_count": 2,
     "metadata": {},
     "output_type": "execute_result"
    }
   ],
   "source": [
    "data_train = input_data_train.sample(len(input_data_train))\n",
    "data_train.head()"
   ]
  },
  {
   "cell_type": "markdown",
   "metadata": {
    "colab_type": "text",
    "id": "9OYYAAwbai2V"
   },
   "source": [
    "## KNN Algorithm"
   ]
  },
  {
   "cell_type": "markdown",
   "metadata": {
    "colab_type": "text",
    "id": "DDWc-s-tai2W"
   },
   "source": [
    "### Euclidiean Distance Function"
   ]
  },
  {
   "cell_type": "code",
   "execution_count": 3,
   "metadata": {
    "colab": {},
    "colab_type": "code",
    "id": "J32vunUTai2Y"
   },
   "outputs": [],
   "source": [
    "import numpy as np\n",
    "\n",
    "def euclidean(a, b):\n",
    "    sum = 0\n",
    "    for i in range(len(a)-1):\n",
    "        if i > 0 : sum += (a[i]-b[i])**2\n",
    "    return np.sqrt(sum)"
   ]
  },
  {
   "cell_type": "markdown",
   "metadata": {
    "colab_type": "text",
    "id": "gQN6OAYwai2d"
   },
   "source": [
    "### K-NN Function"
   ]
  },
  {
   "cell_type": "code",
   "execution_count": 4,
   "metadata": {
    "colab": {},
    "colab_type": "code",
    "id": "PVwhnWi8ai2e"
   },
   "outputs": [],
   "source": [
    "def k_nearest_neighbors(k_value, data_test, data_train):\n",
    "    y_predict = []\n",
    "    for index, data_test in data_test.iterrows():\n",
    "        list_distance = []\n",
    "        for idx, data in data_train.iterrows():\n",
    "            list_distance.append(euclidean(data_test, data))\n",
    "        y_predict.append(stats.mode(np.array(data_train.iloc[np.argsort(list_distance)[:k_value]]['Y']))[0])\n",
    "        \n",
    "    return y_predict"
   ]
  },
  {
   "cell_type": "markdown",
   "metadata": {
    "colab_type": "text",
    "id": "0OnGJz1IZ2fH"
   },
   "source": [
    "## Training Process\n",
    "*run this chapter of code if you're going to find the best k, if not skip this chapter and move to Test Process"
   ]
  },
  {
   "cell_type": "markdown",
   "metadata": {
    "colab_type": "text",
    "id": "d67wXs-Bai2k"
   },
   "source": [
    "### Observe The Best k"
   ]
  },
  {
   "cell_type": "code",
   "execution_count": 5,
   "metadata": {
    "colab": {},
    "colab_type": "code",
    "id": "3AlA6LOaai2m"
   },
   "outputs": [],
   "source": [
    "from sklearn.metrics import accuracy_score\n",
    "from scipy import stats\n",
    "\n",
    "k_performance = []\n",
    "\n",
    "for k_value in range(1,25):\n",
    "    idx = 80\n",
    "    temp_k_performance = []\n",
    "    while idx < 800:\n",
    "        if idx == 80:\n",
    "            data_validation = data_train.iloc[:idx]\n",
    "            temp_train = data_train.iloc[idx:]\n",
    "        elif idx == 720:\n",
    "            data_validation = data_train.iloc[idx:]\n",
    "            temp_train = data_train.iloc[:idx]\n",
    "        else:\n",
    "            data1 = data_train.iloc[:idx_temp]\n",
    "            data2 = data_train.iloc[idx:]\n",
    "            data_validation = data_train.iloc[idx_temp:idx]\n",
    "            temp_train = pd.concat([data1,data2])\n",
    "        idx_temp = idx\n",
    "        idx += 80\n",
    "        predict_of_y = k_nearest_neighbors(k_value, data_validation, temp_train)\n",
    "        temp_k_performance.append(accuracy_score(predict_of_y, data_validation['Y']))\n",
    "    k_performance.append(sum(temp_k_performance)/9)"
   ]
  },
  {
   "cell_type": "markdown",
   "metadata": {
    "colab_type": "text",
    "id": "tYhS7yTDl38U"
   },
   "source": [
    "### the Best K"
   ]
  },
  {
   "cell_type": "code",
   "execution_count": 6,
   "metadata": {
    "colab": {
     "base_uri": "https://localhost:8080/",
     "height": 51
    },
    "colab_type": "code",
    "executionInfo": {
     "elapsed": 786,
     "status": "ok",
     "timestamp": 1543748769709,
     "user": {
      "displayName": "Maxalmina Satria Kahfi",
      "photoUrl": "https://lh6.googleusercontent.com/-RrZ7hIP-1tc/AAAAAAAAAAI/AAAAAAAAEGo/h9oysqJEv-I/s64/photo.jpg",
      "userId": "16959771658419902299"
     },
     "user_tz": -420
    },
    "id": "I0HLqFaxai2q",
    "outputId": "5ecbcd76-a5cf-429f-c115-90c97aff3767",
    "scrolled": true
   },
   "outputs": [
    {
     "name": "stdout",
     "output_type": "stream",
     "text": [
      "K terbaik: 8\n",
      "Akurasi K terbaik: 87.36111111111113 %\n"
     ]
    }
   ],
   "source": [
    "print(\"K terbaik:\",k_performance.index(max(k_performance))+1)\n",
    "print(\"Akurasi K terbaik:\",k_performance[k_performance.index(max(k_performance))]*100,\"%\")"
   ]
  },
  {
   "cell_type": "markdown",
   "metadata": {
    "colab_type": "text",
    "id": "uOGSGo-HmQJQ"
   },
   "source": [
    "### Graph of Accuracy"
   ]
  },
  {
   "cell_type": "code",
   "execution_count": 8,
   "metadata": {
    "colab": {
     "base_uri": "https://localhost:8080/",
     "height": 347
    },
    "colab_type": "code",
    "executionInfo": {
     "elapsed": 1730615,
     "status": "ok",
     "timestamp": 1543747625163,
     "user": {
      "displayName": "Maxalmina Satria Kahfi",
      "photoUrl": "https://lh6.googleusercontent.com/-RrZ7hIP-1tc/AAAAAAAAAAI/AAAAAAAAEGo/h9oysqJEv-I/s64/photo.jpg",
      "userId": "16959771658419902299"
     },
     "user_tz": -420
    },
    "id": "98xSb13iai20",
    "outputId": "6d85d231-25b4-4909-a3c4-29aadee586d6"
   },
   "outputs": [
    {
     "data": {
      "image/png": "[encoded data removed]",
      "text/plain": [
       "<Figure size 432x288 with 1 Axes>"
      ]
     },
     "metadata": {
      "needs_background": "light"
     },
     "output_type": "display_data"
    }
   ],
   "source": [
    "import matplotlib.pyplot as plt\n",
    "\n",
    "plt.plot([x for x in range(1,25)], k_performance)\n",
    "plt.show()"
   ]
  },
  {
   "cell_type": "markdown",
   "metadata": {
    "colab_type": "text",
    "id": "3n1bqxhXZkE1"
   },
   "source": [
    "## Data Test Classification Process"
   ]
  },
  {
   "cell_type": "markdown",
   "metadata": {
    "colab_type": "text",
    "id": "gvbS3tq5mbmO"
   },
   "source": [
    " ### Read the Data Test"
   ]
  },
  {
   "cell_type": "code",
   "execution_count": 10,
   "metadata": {
    "colab": {
     "base_uri": "https://localhost:8080/",
     "height": 1969
    },
    "colab_type": "code",
    "executionInfo": {
     "elapsed": 823,
     "status": "ok",
     "timestamp": 1543748652608,
     "user": {
      "displayName": "Maxalmina Satria Kahfi",
      "photoUrl": "https://lh6.googleusercontent.com/-RrZ7hIP-1tc/AAAAAAAAAAI/AAAAAAAAEGo/h9oysqJEv-I/s64/photo.jpg",
      "userId": "16959771658419902299"
     },
     "user_tz": -420
    },
    "id": "H-7aLkvMaBI9",
    "outputId": "0b7e7bda-ce86-4fda-aad3-f57cc8b476f2"
   },
   "outputs": [
    {
     "data": {
      "text/html": [
       "<div>\n",
       "<style scoped>\n",
       "    .dataframe tbody tr th:only-of-type {\n",
       "        vertical-align: middle;\n",
       "    }\n",
       "\n",
       "    .dataframe tbody tr th {\n",
       "        vertical-align: top;\n",
       "    }\n",
       "\n",
       "    .dataframe thead th {\n",
       "        text-align: right;\n",
       "    }\n",
       "</style>\n",
       "<table border=\"1\" class=\"dataframe\">\n",
       "  <thead>\n",
       "    <tr style=\"text-align: right;\">\n",
       "      <th></th>\n",
       "      <th>Index</th>\n",
       "      <th>X1</th>\n",
       "      <th>X2</th>\n",
       "      <th>X3</th>\n",
       "      <th>X4</th>\n",
       "      <th>X5</th>\n",
       "      <th>Y</th>\n",
       "    </tr>\n",
       "  </thead>\n",
       "  <tbody>\n",
       "    <tr>\n",
       "      <th>0</th>\n",
       "      <td>1</td>\n",
       "      <td>-0.362948</td>\n",
       "      <td>-1.320339</td>\n",
       "      <td>2.871917</td>\n",
       "      <td>-2.414415</td>\n",
       "      <td>-0.216239</td>\n",
       "      <td>?</td>\n",
       "    </tr>\n",
       "    <tr>\n",
       "      <th>1</th>\n",
       "      <td>2</td>\n",
       "      <td>0.257170</td>\n",
       "      <td>0.749144</td>\n",
       "      <td>1.935534</td>\n",
       "      <td>0.403116</td>\n",
       "      <td>-0.261486</td>\n",
       "      <td>?</td>\n",
       "    </tr>\n",
       "    <tr>\n",
       "      <th>2</th>\n",
       "      <td>3</td>\n",
       "      <td>0.674156</td>\n",
       "      <td>0.171398</td>\n",
       "      <td>1.497770</td>\n",
       "      <td>-0.324638</td>\n",
       "      <td>0.032498</td>\n",
       "      <td>?</td>\n",
       "    </tr>\n",
       "    <tr>\n",
       "      <th>3</th>\n",
       "      <td>4</td>\n",
       "      <td>-0.341077</td>\n",
       "      <td>0.555523</td>\n",
       "      <td>1.303567</td>\n",
       "      <td>-0.167549</td>\n",
       "      <td>1.121396</td>\n",
       "      <td>?</td>\n",
       "    </tr>\n",
       "    <tr>\n",
       "      <th>4</th>\n",
       "      <td>5</td>\n",
       "      <td>-0.828400</td>\n",
       "      <td>2.110397</td>\n",
       "      <td>1.497370</td>\n",
       "      <td>0.984645</td>\n",
       "      <td>-0.107470</td>\n",
       "      <td>?</td>\n",
       "    </tr>\n",
       "  </tbody>\n",
       "</table>\n",
       "</div>"
      ],
      "text/plain": [
       "   Index        X1        X2        X3        X4        X5  Y\n",
       "0      1 -0.362948 -1.320339  2.871917 -2.414415 -0.216239  ?\n",
       "1      2  0.257170  0.749144  1.935534  0.403116 -0.261486  ?\n",
       "2      3  0.674156  0.171398  1.497770 -0.324638  0.032498  ?\n",
       "3      4 -0.341077  0.555523  1.303567 -0.167549  1.121396  ?\n",
       "4      5 -0.828400  2.110397  1.497370  0.984645 -0.107470  ?"
      ]
     },
     "execution_count": 10,
     "metadata": {},
     "output_type": "execute_result"
    }
   ],
   "source": [
    "data_test = pd.read_csv('DataTest_KNN.csv')\n",
    "data_test.head()"
   ]
  },
  {
   "cell_type": "markdown",
   "metadata": {
    "colab_type": "text",
    "id": "adwsrbbQmtY4"
   },
   "source": [
    "### Label Prediction for Data Test"
   ]
  },
  {
   "cell_type": "code",
   "execution_count": 11,
   "metadata": {
    "colab": {
     "base_uri": "https://localhost:8080/",
     "height": 3417
    },
    "colab_type": "code",
    "executionInfo": {
     "elapsed": 24335,
     "status": "ok",
     "timestamp": 1543749452311,
     "user": {
      "displayName": "Maxalmina Satria Kahfi",
      "photoUrl": "https://lh6.googleusercontent.com/-RrZ7hIP-1tc/AAAAAAAAAAI/AAAAAAAAEGo/h9oysqJEv-I/s64/photo.jpg",
      "userId": "16959771658419902299"
     },
     "user_tz": -420
    },
    "id": "pbXY7_6ZZtoV",
    "outputId": "fd76a4e3-6615-447d-bfd0-8063d37878be"
   },
   "outputs": [],
   "source": [
    "k = 8\n",
    "y_prediction = k_nearest_neighbors(k, data_test, data_train)"
   ]
  },
  {
   "cell_type": "markdown",
   "metadata": {},
   "source": [
    "### Write the Result"
   ]
  },
  {
   "cell_type": "code",
   "execution_count": 0,
   "metadata": {
    "colab": {},
    "colab_type": "code",
    "id": "K7Q3WovmoTqI"
   },
   "outputs": [],
   "source": [
    "import csv\n",
    "\n",
    "with open('TebakanTugas3.csv','w',newline='\\n') as Write:\n",
    "    file = csv.writer(Write,dialect='excel')\n",
    "    for y in y_prediction:\n",
    "        file.writerow(y)\n",
    "Write.close()"
   ]
  }
 ],
 "metadata": {
  "colab": {
   "collapsed_sections": [],
   "name": "K-NN Tugas3 AI.ipynb",
   "provenance": [],
   "version": "0.3.2"
  },
  "kernelspec": {
   "display_name": "Python 3",
   "language": "python",
   "name": "python3"
  },
  "language_info": {
   "codemirror_mode": {
    "name": "ipython",
    "version": 3
   },
   "file_extension": ".py",
   "mimetype": "text/x-python",
   "name": "python",
   "nbconvert_exporter": "python",
   "pygments_lexer": "ipython3",
   "version": "3.6.6"
  }
 },
 "nbformat": 4,
 "nbformat_minor": 1
}
