{
 "cells": [
  {
   "cell_type": "markdown",
   "metadata": {},
   "source": [
    "# AI: Simulated Annealing"
   ]
  },
  {
   "cell_type": "markdown",
   "metadata": {},
   "source": [
    "$f(x_1 ,  x_2) = -( sin(x_1) cos(x_2) + \\frac{4}{5} exp(1- \\sqrt{(x_1^2 + x_2^2)})$\n",
    "\n",
    "Find the minimimum value of $f(x_1, x_2)$, where $-10 \\leq x_1 \\leq 10$ and $-10 \\leq x_2 \\leq 10$"
   ]
  },
  {
   "cell_type": "markdown",
   "metadata": {},
   "source": [
    "## SA Algorithm"
   ]
  },
  {
   "cell_type": "markdown",
   "metadata": {},
   "source": [
    "### Objective Function"
   ]
  },
  {
   "cell_type": "code",
   "execution_count": 1,
   "metadata": {},
   "outputs": [],
   "source": [
    "import numpy as np\n",
    "\n",
    "def form(x1, x2):\n",
    "    return -((np.sin(x1) * np.cos(x2)) + ((4/5) * np.exp(1 - np.sqrt((x1 ** 2) + (x2 ** 2)))))"
   ]
  },
  {
   "cell_type": "code",
   "execution_count": 2,
   "metadata": {},
   "outputs": [],
   "source": [
    "def cost(state):\n",
    "    return form(state[0], state[1])"
   ]
  },
  {
   "cell_type": "markdown",
   "metadata": {},
   "source": [
    "### Generate Random Point"
   ]
  },
  {
   "cell_type": "code",
   "execution_count": 3,
   "metadata": {},
   "outputs": [],
   "source": [
    "def generate_point():\n",
    "    return random.uniform(-10, 10)"
   ]
  },
  {
   "cell_type": "markdown",
   "metadata": {},
   "source": [
    "### Annealing Schedule"
   ]
  },
  {
   "cell_type": "code",
   "execution_count": 4,
   "metadata": {},
   "outputs": [],
   "source": [
    "def annealing_schedule(temperature, alpha):\n",
    "    return temperature * alpha"
   ]
  },
  {
   "cell_type": "markdown",
   "metadata": {},
   "source": [
    "### Probability Acceptance for Worst Cost"
   ]
  },
  {
   "cell_type": "code",
   "execution_count": 5,
   "metadata": {},
   "outputs": [],
   "source": [
    "def probability_acceptance(new_cost, current_cost, temperature):\n",
    "    delta_e = new_cost - current_cost\n",
    "    return np.exp(-(delta_e)/temperature)"
   ]
  },
  {
   "cell_type": "markdown",
   "metadata": {},
   "source": [
    "### Simulated Annealing Function"
   ]
  },
  {
   "cell_type": "code",
   "execution_count": 33,
   "metadata": {},
   "outputs": [],
   "source": [
    "import random\n",
    "\n",
    "def simmulated_annealing(initial_state, temperature, final_temperature, alpha):\n",
    "    solutions = {}\n",
    "\n",
    "    current_state = initial_state\n",
    "    current_cost = cost(initial_state)\n",
    "\n",
    "    #initialize best solution\n",
    "    best_solution = initial_state\n",
    "    best_cost = current_cost\n",
    "\n",
    "    j = 1\n",
    "    while (temperature > final_temperature):\n",
    "        for i in range(100):\n",
    "            x1 = random.uniform(-10, 10)\n",
    "            x2 = random.uniform(-10, 10)\n",
    "            new_state = [x1, x2]\n",
    "            new_cost = cost(new_state)\n",
    "\n",
    "        if (new_cost < current_cost):\n",
    "            current_state = new_state\n",
    "            current_cost = new_cost\n",
    "            if (current_cost < best_cost):\n",
    "                best_solution = current_state\n",
    "                best_cost = current_cost\n",
    "        else:\n",
    "            prob = probability_acceptance(new_cost, current_cost, temperature)\n",
    "            if (prob > random.uniform(0,1)):\n",
    "                current_state = new_state\n",
    "                current_cost = new_cost\n",
    "        solutions[j] = [temperature, best_solution, best_cost]\n",
    "        j += 1\n",
    "        temperature = annealing_schedule(temperature, alpha)\n",
    "\n",
    "    return solutions"
   ]
  },
  {
   "cell_type": "markdown",
   "metadata": {},
   "source": [
    "## Searching Result"
   ]
  },
  {
   "cell_type": "code",
   "execution_count": 34,
   "metadata": {},
   "outputs": [
    {
     "name": "stdout",
     "output_type": "stream",
     "text": [
      "Minimum value: -2.108419847836198\n",
      "Nilai x1 dan x2: [-0.017598309704796478, 0.014190521961666036]\n"
     ]
    }
   ],
   "source": [
    "temperature = 100 # initial temperature\n",
    "final_temperature = 0.0001 # loops will end while temperature = final_temperature\n",
    "alpha = 0.9999 # parameter of annealing schedule\n",
    "\n",
    "#initialize state\n",
    "x1 = random.uniform(-10, 10)\n",
    "x2 = random.uniform(-10, 10)\n",
    "initial_state = [x1 ,x2]\n",
    "\n",
    "#find the solution\n",
    "solutions = simmulated_annealing(initial_state, temperature, final_temperature, alpha)\n",
    "print(\"Minimum value:\",solutions[list(solutions)[-1]][-1])\n",
    "print(\"Nilai x1 dan x2:\",solutions[list(solutions)[-1]][1])"
   ]
  }
 ],
 "metadata": {
  "kernelspec": {
   "display_name": "Python 3",
   "language": "python",
   "name": "python3"
  },
  "language_info": {
   "codemirror_mode": {
    "name": "ipython",
    "version": 3
   },
   "file_extension": ".py",
   "mimetype": "text/x-python",
   "name": "python",
   "nbconvert_exporter": "python",
   "pygments_lexer": "ipython3",
   "version": "3.6.6"
  }
 },
 "nbformat": 4,
 "nbformat_minor": 2
}
